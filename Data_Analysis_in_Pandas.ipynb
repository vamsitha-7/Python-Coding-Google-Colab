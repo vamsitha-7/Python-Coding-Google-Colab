{
  "nbformat": 4,
  "nbformat_minor": 0,
  "metadata": {
    "colab": {
      "provenance": []
    },
    "kernelspec": {
      "name": "python3",
      "display_name": "Python 3"
    },
    "language_info": {
      "name": "python"
    }
  },
  "cells": [
    {
      "cell_type": "code",
      "source": [
        "# Create an alias with the as keyword while importing\n",
        "# Now you can refer to the Pandas package as pd instead of pandas\n",
        "import pandas as pd"
      ],
      "metadata": {
        "id": "IBfys4iyIAWw"
      },
      "execution_count": 21,
      "outputs": []
    },
    {
      "cell_type": "code",
      "source": [
        "from google.colab import drive\n",
        "drive.mount('/content/drive')"
      ],
      "metadata": {
        "colab": {
          "base_uri": "https://localhost:8080/"
        },
        "id": "KFXUF34AqoOF",
        "outputId": "e24be60a-e106-487a-8f4e-04b21bb6b7b7"
      },
      "execution_count": 22,
      "outputs": [
        {
          "output_type": "stream",
          "name": "stdout",
          "text": [
            "Drive already mounted at /content/drive; to attempt to forcibly remount, call drive.mount(\"/content/drive\", force_remount=True).\n"
          ]
        }
      ]
    },
    {
      "cell_type": "code",
      "execution_count": 23,
      "metadata": {
        "id": "qrzl93qoMyR_"
      },
      "outputs": [],
      "source": [
        "# Load the CSV into a dataframe called sales\n",
        "sales = pd.read_csv('/content/drive/MyDrive/CIS 606/sales_data.csv')"
      ]
    },
    {
      "cell_type": "markdown",
      "source": [
        "**Practice 1 (Revision - Handle Duplicates): Remove duplicated rows in the sales dataframe**"
      ],
      "metadata": {
        "id": "rNtgzvAIZgII"
      }
    },
    {
      "cell_type": "code",
      "source": [
        "sales = sales.drop_duplicates()\n",
        "print(sales)"
      ],
      "metadata": {
        "colab": {
          "base_uri": "https://localhost:8080/"
        },
        "id": "B-tbdqeZq38b",
        "outputId": "3287f94f-6578-45a1-a140-57789e98498b"
      },
      "execution_count": 24,
      "outputs": [
        {
          "output_type": "stream",
          "name": "stdout",
          "text": [
            "   Transaction_ID Customer_ID Product_ID  Quantity    Price       Date\n",
            "0               1        C101       P001         2  2099.00   1/5/2023\n",
            "1               2        C102       P002         1    29.99   20230106\n",
            "2               3        C103       P001         1    20.99   1/7/2023\n",
            "3               4        C101       P003         3     9.99   1/8/2023\n",
            "4               5        C102       P002         2    29.99   1/9/2023\n",
            "5               6        C105       P001         1    20.99  1/10/2023\n",
            "6               7        C102       P004         1      NaN  1/11/2023\n",
            "7               8        C106       P001         2    20.99  1/12/2023\n",
            "8               9        C103       P005         1     9.99  1/13/2023\n"
          ]
        }
      ]
    },
    {
      "cell_type": "markdown",
      "source": [
        "**Practice 2 (Revision: Correct Wrong Values): Change the price of Product P001 to 20.99 and recalculate transaction amount (Quantity * Price)**"
      ],
      "metadata": {
        "id": "ZWW3-wLyMVqM"
      }
    },
    {
      "cell_type": "code",
      "source": [
        "sales.loc[sales['Product_ID'] == 'P001', 'Price'] = 20.99\n",
        "\n",
        "# Recalculate the transaction amount (Quantity * Price)\n",
        "# sales['Transaction_ID'] = sales['Quantity'] * sales['Price']\n",
        "print(sales)"
      ],
      "metadata": {
        "colab": {
          "base_uri": "https://localhost:8080/"
        },
        "id": "YrLCaX5Vq86l",
        "outputId": "552dca02-2c0f-4a5c-f5fb-86f7c359960e"
      },
      "execution_count": 25,
      "outputs": [
        {
          "output_type": "stream",
          "name": "stdout",
          "text": [
            "   Transaction_ID Customer_ID Product_ID  Quantity  Price       Date\n",
            "0               1        C101       P001         2  20.99   1/5/2023\n",
            "1               2        C102       P002         1  29.99   20230106\n",
            "2               3        C103       P001         1  20.99   1/7/2023\n",
            "3               4        C101       P003         3   9.99   1/8/2023\n",
            "4               5        C102       P002         2  29.99   1/9/2023\n",
            "5               6        C105       P001         1  20.99  1/10/2023\n",
            "6               7        C102       P004         1    NaN  1/11/2023\n",
            "7               8        C106       P001         2  20.99  1/12/2023\n",
            "8               9        C103       P005         1   9.99  1/13/2023\n"
          ]
        }
      ]
    },
    {
      "cell_type": "markdown",
      "source": [
        "**Practice 3 (Revision: Correct Wrong Values): Change the null value of Price to the weighted price of all other products in the sales table (i.e., total transaction amount of all the products divided by total quantity of all the products) and recalculate transaction amount**"
      ],
      "metadata": {
        "id": "u0AQlPUJLIt-"
      }
    },
    {
      "cell_type": "code",
      "source": [
        "total_transaction_amount = (sales['Quantity'] * sales['Price']).sum()\n",
        "\n",
        "# Calculate the total quantity of all products\n",
        "total_quantity = sales['Quantity'].sum()\n",
        "\n",
        "# Calculate the weighted price\n",
        "weighted_price = total_transaction_amount / total_quantity\n",
        "\n",
        "# Fill null values in the 'Price' column with the weighted price\n",
        "sales['Price'].fillna(weighted_price, inplace=True)\n",
        "\n",
        "# Recalculate the transaction amount\n",
        "sales['TransactionAmount'] = sales['Quantity'] * sales['Price']\n",
        "print(sales)"
      ],
      "metadata": {
        "colab": {
          "base_uri": "https://localhost:8080/"
        },
        "id": "d62d1o0jrBkw",
        "outputId": "cc0ac7dd-e11c-4df3-ac0f-4c3adaf7dcf7"
      },
      "execution_count": 26,
      "outputs": [
        {
          "output_type": "stream",
          "name": "stdout",
          "text": [
            "   Transaction_ID Customer_ID Product_ID  Quantity      Price       Date  \\\n",
            "0               1        C101       P001         2  20.990000   1/5/2023   \n",
            "1               2        C102       P002         1  29.990000   20230106   \n",
            "2               3        C103       P001         1  20.990000   1/7/2023   \n",
            "3               4        C101       P003         3   9.990000   1/8/2023   \n",
            "4               5        C102       P002         2  29.990000   1/9/2023   \n",
            "5               6        C105       P001         1  20.990000  1/10/2023   \n",
            "6               7        C102       P004         1  18.276429  1/11/2023   \n",
            "7               8        C106       P001         2  20.990000  1/12/2023   \n",
            "8               9        C103       P005         1   9.990000  1/13/2023   \n",
            "\n",
            "   TransactionAmount  \n",
            "0          41.980000  \n",
            "1          29.990000  \n",
            "2          20.990000  \n",
            "3          29.970000  \n",
            "4          59.980000  \n",
            "5          20.990000  \n",
            "6          18.276429  \n",
            "7          41.980000  \n",
            "8           9.990000  \n"
          ]
        },
        {
          "output_type": "stream",
          "name": "stderr",
          "text": [
            "<ipython-input-26-cad0feb99d07>:10: SettingWithCopyWarning: \n",
            "A value is trying to be set on a copy of a slice from a DataFrame\n",
            "\n",
            "See the caveats in the documentation: https://pandas.pydata.org/pandas-docs/stable/user_guide/indexing.html#returning-a-view-versus-a-copy\n",
            "  sales['Price'].fillna(weighted_price, inplace=True)\n",
            "<ipython-input-26-cad0feb99d07>:13: SettingWithCopyWarning: \n",
            "A value is trying to be set on a copy of a slice from a DataFrame.\n",
            "Try using .loc[row_indexer,col_indexer] = value instead\n",
            "\n",
            "See the caveats in the documentation: https://pandas.pydata.org/pandas-docs/stable/user_guide/indexing.html#returning-a-view-versus-a-copy\n",
            "  sales['TransactionAmount'] = sales['Quantity'] * sales['Price']\n"
          ]
        }
      ]
    },
    {
      "cell_type": "markdown",
      "source": [
        "**Practice 4: Write code to answer the following question: for each product, what is its average price weighted by transaction quantity?**"
      ],
      "metadata": {
        "id": "5kgqnmKFWrwi"
      }
    },
    {
      "cell_type": "code",
      "source": [
        "weighted_avg_price= sales.groupby('Product_ID')[['TransactionAmount', 'Quantity']].sum()\n",
        "print(weighted_avg_price)\n",
        "print(type(weighted_avg_price))\n",
        "weighted_avg_price['WeightedPrice']= weighted_avg_price['TransactionAmount']/weighted_avg_price['Quantity']"
      ],
      "metadata": {
        "colab": {
          "base_uri": "https://localhost:8080/"
        },
        "id": "TfLOTTvtrD8W",
        "outputId": "a9e28f66-7fb6-411a-f0bd-932ad0881f9b"
      },
      "execution_count": 27,
      "outputs": [
        {
          "output_type": "stream",
          "name": "stdout",
          "text": [
            "            TransactionAmount  Quantity\n",
            "Product_ID                             \n",
            "P001               125.940000         6\n",
            "P002                89.970000         3\n",
            "P003                29.970000         3\n",
            "P004                18.276429         1\n",
            "P005                 9.990000         1\n",
            "<class 'pandas.core.frame.DataFrame'>\n"
          ]
        }
      ]
    },
    {
      "cell_type": "code",
      "source": [
        "sales['Customer_ID'].value_counts()"
      ],
      "metadata": {
        "colab": {
          "base_uri": "https://localhost:8080/"
        },
        "id": "TFrrf9idrOtP",
        "outputId": "91c461bc-66bf-471d-bc1e-d835253a72b8"
      },
      "execution_count": 28,
      "outputs": [
        {
          "output_type": "execute_result",
          "data": {
            "text/plain": [
              "C102    3\n",
              "C101    2\n",
              "C103    2\n",
              "C105    1\n",
              "C106    1\n",
              "Name: Customer_ID, dtype: int64"
            ]
          },
          "metadata": {},
          "execution_count": 28
        }
      ]
    },
    {
      "cell_type": "markdown",
      "source": [
        "**Practice 5: Write code to count the number of transactions for each pair of customer and product**"
      ],
      "metadata": {
        "id": "zm1pY_DDRG48"
      }
    },
    {
      "cell_type": "code",
      "source": [
        "sales.groupby(['Customer_ID', 'Product_ID'])['Transaction_ID'].value_counts()"
      ],
      "metadata": {
        "colab": {
          "base_uri": "https://localhost:8080/"
        },
        "id": "HEUG8iJBrUot",
        "outputId": "7089cec3-eb12-4f24-828c-a474c1211b1d"
      },
      "execution_count": 29,
      "outputs": [
        {
          "output_type": "execute_result",
          "data": {
            "text/plain": [
              "Customer_ID  Product_ID  Transaction_ID\n",
              "C101         P001        1                 1\n",
              "             P003        4                 1\n",
              "C102         P002        2                 1\n",
              "                         5                 1\n",
              "             P004        7                 1\n",
              "C103         P001        3                 1\n",
              "             P005        9                 1\n",
              "C105         P001        6                 1\n",
              "C106         P001        8                 1\n",
              "Name: Transaction_ID, dtype: int64"
            ]
          },
          "metadata": {},
          "execution_count": 29
        }
      ]
    },
    {
      "cell_type": "markdown",
      "source": [
        "**Practice 6: Use nlargest(), nsmallest(), idxmax(), and idxmin() to write code to get the product with the highest and lowest average price weighted by transaction quantity**\n",
        "\n",
        "**Hint 1: Use your answer from Practice 6**\n",
        "\n",
        "**Hint 2: Read resources here: https://tutorialsinhand.com/Articles/pandas-dataframe---nsmallest-and-nlargest.aspx and https://proclusacademy.com/blog/quicktip/pandas-idxmin-idxmax/**\n",
        "\n",
        "**The second resource also talks about having repeated max and min values**"
      ],
      "metadata": {
        "id": "xQ6ywiPHRw7N"
      }
    },
    {
      "cell_type": "code",
      "source": [
        "weighted_avg_price['Quantity'].nlargest()\n",
        "weighted_avg_price['Quantity'].idxmax()\n",
        "weighted_avg_price['Quantity'].idxmin()"
      ],
      "metadata": {
        "colab": {
          "base_uri": "https://localhost:8080/",
          "height": 36
        },
        "id": "Gh2CXaITreas",
        "outputId": "ce035637-c348-4b02-e63a-eb97df10ebc4"
      },
      "execution_count": 30,
      "outputs": [
        {
          "output_type": "execute_result",
          "data": {
            "text/plain": [
              "'P004'"
            ],
            "application/vnd.google.colaboratory.intrinsic+json": {
              "type": "string"
            }
          },
          "metadata": {},
          "execution_count": 30
        }
      ]
    },
    {
      "cell_type": "code",
      "source": [
        "# Load the CSV into a dataframe\n",
        "customers = pd.read_csv('/content/drive/MyDrive/CIS 606/customers_data.csv')"
      ],
      "metadata": {
        "id": "Ww_SYYidkcTf"
      },
      "execution_count": 31,
      "outputs": []
    },
    {
      "cell_type": "markdown",
      "source": [
        "**Practice 7: Get the rows in the sales table where the customer's city is Chicago**"
      ],
      "metadata": {
        "id": "J6WeT7GzYcTU"
      }
    },
    {
      "cell_type": "code",
      "source": [
        "sales[sales['Customer_ID'].isin(customers.loc[customers['City'] == 'Chicago','Customer_ID'])]"
      ],
      "metadata": {
        "colab": {
          "base_uri": "https://localhost:8080/",
          "height": 112
        },
        "id": "EuG0iON2st5R",
        "outputId": "3f496a7e-4eb5-4474-f952-5e6531bbf98c"
      },
      "execution_count": 32,
      "outputs": [
        {
          "output_type": "execute_result",
          "data": {
            "text/plain": [
              "   Transaction_ID Customer_ID Product_ID  Quantity  Price       Date  \\\n",
              "2               3        C103       P001         1  20.99   1/7/2023   \n",
              "8               9        C103       P005         1   9.99  1/13/2023   \n",
              "\n",
              "   TransactionAmount  \n",
              "2              20.99  \n",
              "8               9.99  "
            ],
            "text/html": [
              "\n",
              "  <div id=\"df-79543b27-fdc3-476b-99fc-daeadb207147\" class=\"colab-df-container\">\n",
              "    <div>\n",
              "<style scoped>\n",
              "    .dataframe tbody tr th:only-of-type {\n",
              "        vertical-align: middle;\n",
              "    }\n",
              "\n",
              "    .dataframe tbody tr th {\n",
              "        vertical-align: top;\n",
              "    }\n",
              "\n",
              "    .dataframe thead th {\n",
              "        text-align: right;\n",
              "    }\n",
              "</style>\n",
              "<table border=\"1\" class=\"dataframe\">\n",
              "  <thead>\n",
              "    <tr style=\"text-align: right;\">\n",
              "      <th></th>\n",
              "      <th>Transaction_ID</th>\n",
              "      <th>Customer_ID</th>\n",
              "      <th>Product_ID</th>\n",
              "      <th>Quantity</th>\n",
              "      <th>Price</th>\n",
              "      <th>Date</th>\n",
              "      <th>TransactionAmount</th>\n",
              "    </tr>\n",
              "  </thead>\n",
              "  <tbody>\n",
              "    <tr>\n",
              "      <th>2</th>\n",
              "      <td>3</td>\n",
              "      <td>C103</td>\n",
              "      <td>P001</td>\n",
              "      <td>1</td>\n",
              "      <td>20.99</td>\n",
              "      <td>1/7/2023</td>\n",
              "      <td>20.99</td>\n",
              "    </tr>\n",
              "    <tr>\n",
              "      <th>8</th>\n",
              "      <td>9</td>\n",
              "      <td>C103</td>\n",
              "      <td>P005</td>\n",
              "      <td>1</td>\n",
              "      <td>9.99</td>\n",
              "      <td>1/13/2023</td>\n",
              "      <td>9.99</td>\n",
              "    </tr>\n",
              "  </tbody>\n",
              "</table>\n",
              "</div>\n",
              "    <div class=\"colab-df-buttons\">\n",
              "\n",
              "  <div class=\"colab-df-container\">\n",
              "    <button class=\"colab-df-convert\" onclick=\"convertToInteractive('df-79543b27-fdc3-476b-99fc-daeadb207147')\"\n",
              "            title=\"Convert this dataframe to an interactive table.\"\n",
              "            style=\"display:none;\">\n",
              "\n",
              "  <svg xmlns=\"http://www.w3.org/2000/svg\" height=\"24px\" viewBox=\"0 -960 960 960\">\n",
              "    <path d=\"M120-120v-720h720v720H120Zm60-500h600v-160H180v160Zm220 220h160v-160H400v160Zm0 220h160v-160H400v160ZM180-400h160v-160H180v160Zm440 0h160v-160H620v160ZM180-180h160v-160H180v160Zm440 0h160v-160H620v160Z\"/>\n",
              "  </svg>\n",
              "    </button>\n",
              "\n",
              "  <style>\n",
              "    .colab-df-container {\n",
              "      display:flex;\n",
              "      gap: 12px;\n",
              "    }\n",
              "\n",
              "    .colab-df-convert {\n",
              "      background-color: #E8F0FE;\n",
              "      border: none;\n",
              "      border-radius: 50%;\n",
              "      cursor: pointer;\n",
              "      display: none;\n",
              "      fill: #1967D2;\n",
              "      height: 32px;\n",
              "      padding: 0 0 0 0;\n",
              "      width: 32px;\n",
              "    }\n",
              "\n",
              "    .colab-df-convert:hover {\n",
              "      background-color: #E2EBFA;\n",
              "      box-shadow: 0px 1px 2px rgba(60, 64, 67, 0.3), 0px 1px 3px 1px rgba(60, 64, 67, 0.15);\n",
              "      fill: #174EA6;\n",
              "    }\n",
              "\n",
              "    .colab-df-buttons div {\n",
              "      margin-bottom: 4px;\n",
              "    }\n",
              "\n",
              "    [theme=dark] .colab-df-convert {\n",
              "      background-color: #3B4455;\n",
              "      fill: #D2E3FC;\n",
              "    }\n",
              "\n",
              "    [theme=dark] .colab-df-convert:hover {\n",
              "      background-color: #434B5C;\n",
              "      box-shadow: 0px 1px 3px 1px rgba(0, 0, 0, 0.15);\n",
              "      filter: drop-shadow(0px 1px 2px rgba(0, 0, 0, 0.3));\n",
              "      fill: #FFFFFF;\n",
              "    }\n",
              "  </style>\n",
              "\n",
              "    <script>\n",
              "      const buttonEl =\n",
              "        document.querySelector('#df-79543b27-fdc3-476b-99fc-daeadb207147 button.colab-df-convert');\n",
              "      buttonEl.style.display =\n",
              "        google.colab.kernel.accessAllowed ? 'block' : 'none';\n",
              "\n",
              "      async function convertToInteractive(key) {\n",
              "        const element = document.querySelector('#df-79543b27-fdc3-476b-99fc-daeadb207147');\n",
              "        const dataTable =\n",
              "          await google.colab.kernel.invokeFunction('convertToInteractive',\n",
              "                                                    [key], {});\n",
              "        if (!dataTable) return;\n",
              "\n",
              "        const docLinkHtml = 'Like what you see? Visit the ' +\n",
              "          '<a target=\"_blank\" href=https://colab.research.google.com/notebooks/data_table.ipynb>data table notebook</a>'\n",
              "          + ' to learn more about interactive tables.';\n",
              "        element.innerHTML = '';\n",
              "        dataTable['output_type'] = 'display_data';\n",
              "        await google.colab.output.renderOutput(dataTable, element);\n",
              "        const docLink = document.createElement('div');\n",
              "        docLink.innerHTML = docLinkHtml;\n",
              "        element.appendChild(docLink);\n",
              "      }\n",
              "    </script>\n",
              "  </div>\n",
              "\n",
              "\n",
              "<div id=\"df-e6162d3b-eb83-486a-a65d-0751b41538b7\">\n",
              "  <button class=\"colab-df-quickchart\" onclick=\"quickchart('df-e6162d3b-eb83-486a-a65d-0751b41538b7')\"\n",
              "            title=\"Suggest charts.\"\n",
              "            style=\"display:none;\">\n",
              "\n",
              "<svg xmlns=\"http://www.w3.org/2000/svg\" height=\"24px\"viewBox=\"0 0 24 24\"\n",
              "     width=\"24px\">\n",
              "    <g>\n",
              "        <path d=\"M19 3H5c-1.1 0-2 .9-2 2v14c0 1.1.9 2 2 2h14c1.1 0 2-.9 2-2V5c0-1.1-.9-2-2-2zM9 17H7v-7h2v7zm4 0h-2V7h2v10zm4 0h-2v-4h2v4z\"/>\n",
              "    </g>\n",
              "</svg>\n",
              "  </button>\n",
              "\n",
              "<style>\n",
              "  .colab-df-quickchart {\n",
              "      --bg-color: #E8F0FE;\n",
              "      --fill-color: #1967D2;\n",
              "      --hover-bg-color: #E2EBFA;\n",
              "      --hover-fill-color: #174EA6;\n",
              "      --disabled-fill-color: #AAA;\n",
              "      --disabled-bg-color: #DDD;\n",
              "  }\n",
              "\n",
              "  [theme=dark] .colab-df-quickchart {\n",
              "      --bg-color: #3B4455;\n",
              "      --fill-color: #D2E3FC;\n",
              "      --hover-bg-color: #434B5C;\n",
              "      --hover-fill-color: #FFFFFF;\n",
              "      --disabled-bg-color: #3B4455;\n",
              "      --disabled-fill-color: #666;\n",
              "  }\n",
              "\n",
              "  .colab-df-quickchart {\n",
              "    background-color: var(--bg-color);\n",
              "    border: none;\n",
              "    border-radius: 50%;\n",
              "    cursor: pointer;\n",
              "    display: none;\n",
              "    fill: var(--fill-color);\n",
              "    height: 32px;\n",
              "    padding: 0;\n",
              "    width: 32px;\n",
              "  }\n",
              "\n",
              "  .colab-df-quickchart:hover {\n",
              "    background-color: var(--hover-bg-color);\n",
              "    box-shadow: 0 1px 2px rgba(60, 64, 67, 0.3), 0 1px 3px 1px rgba(60, 64, 67, 0.15);\n",
              "    fill: var(--button-hover-fill-color);\n",
              "  }\n",
              "\n",
              "  .colab-df-quickchart-complete:disabled,\n",
              "  .colab-df-quickchart-complete:disabled:hover {\n",
              "    background-color: var(--disabled-bg-color);\n",
              "    fill: var(--disabled-fill-color);\n",
              "    box-shadow: none;\n",
              "  }\n",
              "\n",
              "  .colab-df-spinner {\n",
              "    border: 2px solid var(--fill-color);\n",
              "    border-color: transparent;\n",
              "    border-bottom-color: var(--fill-color);\n",
              "    animation:\n",
              "      spin 1s steps(1) infinite;\n",
              "  }\n",
              "\n",
              "  @keyframes spin {\n",
              "    0% {\n",
              "      border-color: transparent;\n",
              "      border-bottom-color: var(--fill-color);\n",
              "      border-left-color: var(--fill-color);\n",
              "    }\n",
              "    20% {\n",
              "      border-color: transparent;\n",
              "      border-left-color: var(--fill-color);\n",
              "      border-top-color: var(--fill-color);\n",
              "    }\n",
              "    30% {\n",
              "      border-color: transparent;\n",
              "      border-left-color: var(--fill-color);\n",
              "      border-top-color: var(--fill-color);\n",
              "      border-right-color: var(--fill-color);\n",
              "    }\n",
              "    40% {\n",
              "      border-color: transparent;\n",
              "      border-right-color: var(--fill-color);\n",
              "      border-top-color: var(--fill-color);\n",
              "    }\n",
              "    60% {\n",
              "      border-color: transparent;\n",
              "      border-right-color: var(--fill-color);\n",
              "    }\n",
              "    80% {\n",
              "      border-color: transparent;\n",
              "      border-right-color: var(--fill-color);\n",
              "      border-bottom-color: var(--fill-color);\n",
              "    }\n",
              "    90% {\n",
              "      border-color: transparent;\n",
              "      border-bottom-color: var(--fill-color);\n",
              "    }\n",
              "  }\n",
              "</style>\n",
              "\n",
              "  <script>\n",
              "    async function quickchart(key) {\n",
              "      const quickchartButtonEl =\n",
              "        document.querySelector('#' + key + ' button');\n",
              "      quickchartButtonEl.disabled = true;  // To prevent multiple clicks.\n",
              "      quickchartButtonEl.classList.add('colab-df-spinner');\n",
              "      try {\n",
              "        const charts = await google.colab.kernel.invokeFunction(\n",
              "            'suggestCharts', [key], {});\n",
              "      } catch (error) {\n",
              "        console.error('Error during call to suggestCharts:', error);\n",
              "      }\n",
              "      quickchartButtonEl.classList.remove('colab-df-spinner');\n",
              "      quickchartButtonEl.classList.add('colab-df-quickchart-complete');\n",
              "    }\n",
              "    (() => {\n",
              "      let quickchartButtonEl =\n",
              "        document.querySelector('#df-e6162d3b-eb83-486a-a65d-0751b41538b7 button');\n",
              "      quickchartButtonEl.style.display =\n",
              "        google.colab.kernel.accessAllowed ? 'block' : 'none';\n",
              "    })();\n",
              "  </script>\n",
              "</div>\n",
              "    </div>\n",
              "  </div>\n"
            ]
          },
          "metadata": {},
          "execution_count": 32
        }
      ]
    }
  ]
}