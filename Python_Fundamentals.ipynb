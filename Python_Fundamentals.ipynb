{
  "nbformat": 4,
  "nbformat_minor": 0,
  "metadata": {
    "colab": {
      "provenance": []
    },
    "kernelspec": {
      "name": "python3",
      "display_name": "Python 3"
    },
    "language_info": {
      "name": "python"
    }
  },
  "cells": [
    {
      "cell_type": "code",
      "source": [
        "# Examine whether all the rows satisify the sudoku requirements\n",
        "# If true, print \"Rows satisfy the requirements!\"\n",
        "# If false, print \"Rows violate the requirements!\"\n",
        "def examine_rows(loaded_list):\n",
        "  for row in loaded_list:\n",
        "        if len(set(row)) != 9 or len(row) != len(set(row)):\n",
        "            print(\"Rows violate the requirements!\")\n",
        "            return\n",
        "  print(\"Rows satisfy the requirements!\")"
      ],
      "metadata": {
        "id": "ZIBLcl9uDpkW"
      },
      "execution_count": 19,
      "outputs": []
    },
    {
      "cell_type": "code",
      "source": [
        "# Examine whether all the columns satisify the sudoku requirements\n",
        "# If true, print \"Columns satisfy the requirements!\"\n",
        "# If false, print \"Columns violate the requirements!\"\n",
        "def examine_columns(loaded_list):\n",
        "  for col in range(9):\n",
        "        column = [loaded_list[row][col] for row in range(9)]\n",
        "        if len(set(column)) != 9 or len(column) != len(set(column)):\n",
        "            print(\"Columns violate the requirements!\")\n",
        "            return\n",
        "  print(\"Columns satisfy the requirements!\")"
      ],
      "metadata": {
        "id": "p8Gm5pyuDyX4"
      },
      "execution_count": 20,
      "outputs": []
    },
    {
      "cell_type": "code",
      "source": [
        "# Examine whether the main diagonal satisifies the sudoku requirement\n",
        "# If true, print \"Main diagonal satisfies the requirement!\"\n",
        "# If false, print \"Main diagonal violates the requirement!\"\n",
        "def examine_main_diagonal(loaded_list):\n",
        "  diagonal = [loaded_list[i][i] for i in range(9)]\n",
        "  if len(set(diagonal)) != 9 or len(diagonal) != len(set(diagonal)):\n",
        "        print(\"Main diagonal violates the requirement!\")\n",
        "  else:\n",
        "        print(\"Main diagonal satisfies the requirement!\")"
      ],
      "metadata": {
        "id": "NjpvC9oED36p"
      },
      "execution_count": 21,
      "outputs": []
    },
    {
      "cell_type": "code",
      "source": [
        "# Examine whether the antidiagonal satisifies the sudoku requirement\n",
        "# If true, print \"Antidiagonal satisfies the requirement!\"\n",
        "# If false, print \"Antidiagonal violates the requirement!\"\n",
        "def examine_antidiagonal(loaded_list):\n",
        "  antidiagonal = [loaded_list[i][8 - i] for i in range(9)]\n",
        "  if len(set(antidiagonal)) != 9 or len(antidiagonal) != len(set(antidiagonal)):\n",
        "        print(\"Antidiagonal violates the requirement!\")\n",
        "  else:\n",
        "        print(\"Antidiagonal satisfies the requirement!\")"
      ],
      "metadata": {
        "id": "OXQBN1dmD6US"
      },
      "execution_count": 22,
      "outputs": []
    },
    {
      "cell_type": "code",
      "source": [
        "from google.colab import drive\n",
        "drive.mount('/content/drive')"
      ],
      "metadata": {
        "colab": {
          "base_uri": "https://localhost:8080/"
        },
        "id": "P4FqFiLERSgd",
        "outputId": "a7e35239-ebe2-482f-87f8-27ff8d9771fc"
      },
      "execution_count": 23,
      "outputs": [
        {
          "output_type": "stream",
          "name": "stdout",
          "text": [
            "Drive already mounted at /content/drive; to attempt to forcibly remount, call drive.mount(\"/content/drive\", force_remount=True).\n"
          ]
        }
      ]
    },
    {
      "cell_type": "code",
      "source": [
        "import pickle\n",
        "# To load the list of lists from the file later:\n",
        "with open('/content/drive/MyDrive/CIS 606/lists.pkl', 'rb') as file:\n",
        "    loaded_lists = pickle.load(file) # loaded_lists is a list of two-dimensional lists, i.e., every item in loaded_lists is a two-dimensional list\n",
        "    for loaded_list in loaded_lists:\n",
        "      print(loaded_list) # Every loaded_list is a two-dimensional list for you to check\n",
        "      \"\"\"\n",
        "      Please add code here to check if the two-dimensional list named loaded_list satisfies the sudoku requirements\n",
        "      for rows, columns, main diagonal, and antidiagonal\n",
        "\n",
        "      Although sudoku squares have some additional requirements, we ignore them for this assignment\n",
        "\n",
        "      Please also fill the functions in this notebook for keeping good structure and reducing reduandancy\n",
        "\n",
        "      \"\"\"\n",
        "      # Add code here\n",
        "      examine_rows(loaded_list)\n",
        "      examine_columns(loaded_list)\n",
        "      examine_main_diagonal(loaded_list)\n",
        "      examine_antidiagonal(loaded_list)\n",
        "      print()"
      ],
      "metadata": {
        "colab": {
          "base_uri": "https://localhost:8080/"
        },
        "id": "7iIwy086Me3y",
        "outputId": "eaa21bf0-009e-4fe4-a5ca-5eed239a3f6e"
      },
      "execution_count": 24,
      "outputs": [
        {
          "output_type": "stream",
          "name": "stdout",
          "text": [
            "[[9, 1, 5, 4, 2, 8, 6, 7, 3], [7, 2, 3, 6, 5, 9, 4, 1, 8], [4, 8, 6, 3, 1, 7, 9, 2, 5], [2, 3, 4, 1, 9, 5, 7, 8, 6], [8, 5, 7, 2, 4, 6, 3, 9, 1], [1, 6, 9, 8, 7, 3, 5, 4, 2], [5, 4, 2, 7, 3, 1, 8, 6, 9], [3, 7, 8, 9, 6, 2, 1, 5, 4], [6, 9, 1, 5, 8, 4, 2, 3, 7]]\n",
            "Rows satisfy the requirements!\n",
            "Columns satisfy the requirements!\n",
            "Main diagonal satisfies the requirement!\n",
            "Antidiagonal satisfies the requirement!\n",
            "\n",
            "[[9, 4, 2, 6, 7, 8, 3, 5, 1], [6, 7, 5, 3, 1, 9, 2, 8, 4], [5, 3, 8, 5, 2, 4, 9, 7, 6], [5, 6, 1, 4, 8, 2, 7, 9, 3], [7, 2, 4, 8, 3, 5, 6, 1, 8], [3, 8, 9, 7, 6, 1, 4, 2, 5], [8, 1, 6, 2, 9, 3, 5, 4, 7], [2, 5, 3, 1, 4, 7, 8, 6, 9], [4, 9, 1, 8, 5, 6, 1, 3, 2]]\n",
            "Rows violate the requirements!\n",
            "Columns violate the requirements!\n",
            "Main diagonal satisfies the requirement!\n",
            "Antidiagonal satisfies the requirement!\n",
            "\n",
            "[[3, 1, 8, 6, 4, 5, 7, 9, 2], [7, 9, 4, 2, 8, 1, 6, 5, 3], [6, 2, 5, 3, 9, 7, 1, 8, 4], [4, 8, 2, 1, 6, 3, 5, 7, 9], [5, 3, 6, 8, 7, 9, 4, 2, 1], [9, 7, 1, 4, 5, 2, 3, 6, 8], [2, 4, 9, 5, 1, 6, 8, 3, 7], [1, 6, 3, 7, 2, 8, 9, 4, 5], [8, 5, 7, 9, 3, 4, 2, 1, 6]]\n",
            "Rows satisfy the requirements!\n",
            "Columns satisfy the requirements!\n",
            "Main diagonal satisfies the requirement!\n",
            "Antidiagonal satisfies the requirement!\n",
            "\n",
            "[[7, 9, 4, 1, 3, 6, 8, 5, 2], [5, 1, 2, 4, 8, 9, 3, 7, 6], [3, 6, 8, 2, 7, 5, 6, 4, 1], [6, 4, 7, 9, 2, 8, 5, 1, 3], [8, 5, 3, 7, 6, 1, 2, 9, 4], [1, 2, 9, 5, 4, 3, 7, 6, 8], [2, 8, 1, 6, 5, 8, 4, 3, 9], [9, 3, 5, 8, 1, 4, 6, 2, 7], [4, 7, 6, 3, 9, 2, 1, 8, 5]]\n",
            "Rows violate the requirements!\n",
            "Columns violate the requirements!\n",
            "Main diagonal satisfies the requirement!\n",
            "Antidiagonal violates the requirement!\n",
            "\n",
            "[[7, 3, 1, 5, 2, 6, 4, 8, 9], [9, 4, 8, 1, 7, 3, 5, 6, 2], [6, 2, 5, 4, 9, 8, 7, 3, 1], [1, 9, 7, 3, 5, 4, 6, 2, 8], [3, 6, 2, 9, 8, 7, 1, 4, 5], [8, 5, 4, 2, 6, 1, 9, 7, 3], [4, 8, 3, 6, 1, 9, 2, 5, 7], [2, 1, 6, 7, 3, 5, 8, 9, 4], [5, 7, 9, 8, 4, 2, 3, 1, 6]]\n",
            "Rows satisfy the requirements!\n",
            "Columns satisfy the requirements!\n",
            "Main diagonal satisfies the requirement!\n",
            "Antidiagonal satisfies the requirement!\n",
            "\n",
            "[[7, 8, 6, 1, 9, 4, 5, 3, 2], [9, 4, 3, 2, 5, 8, 1, 6, 7], [1, 2, 5, 6, 3, 7, 8, 4, 9], [4, 9, 2, 8, 7, 5, 6, 1, 3], [6, 5, 7, 9, 1, 3, 4, 2, 8], [8, 3, 1, 4, 6, 2, 9, 7, 5], [2, 6, 9, 7, 8, 1, 3, 5, 4], [5, 7, 8, 3, 4, 6, 2, 9, 1], [3, 1, 4, 5, 2, 9, 7, 8, 6]]\n",
            "Rows satisfy the requirements!\n",
            "Columns satisfy the requirements!\n",
            "Main diagonal satisfies the requirement!\n",
            "Antidiagonal satisfies the requirement!\n",
            "\n",
            "[[8, 1, 6, 9, 1, 2, 7, 4, 3], [9, 4, 3, 7, 1, 8, 5, 2, 6], [5, 2, 7, 3, 4, 6, 1, 8, 9], [6, 7, 2, 1, 3, 4, 8, 9, 5], [3, 5, 8, 2, 8, 7, 6, 1, 4], [4, 9, 1, 6, 8, 5, 2, 3, 7], [1, 6, 5, 4, 2, 9, 3, 7, 8], [2, 8, 4, 5, 7, 3, 9, 6, 1], [7, 3, 9, 8, 6, 1, 4, 5, 2]]\n",
            "Rows violate the requirements!\n",
            "Columns violate the requirements!\n",
            "Main diagonal violates the requirement!\n",
            "Antidiagonal violates the requirement!\n",
            "\n"
          ]
        }
      ]
    }
  ]
}