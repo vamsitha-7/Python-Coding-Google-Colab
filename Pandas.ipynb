{
  "nbformat": 4,
  "nbformat_minor": 0,
  "metadata": {
    "colab": {
      "provenance": []
    },
    "kernelspec": {
      "name": "python3",
      "display_name": "Python 3"
    },
    "language_info": {
      "name": "python"
    }
  },
  "cells": [
    {
      "cell_type": "code",
      "execution_count": null,
      "metadata": {
        "id": "ura07PbPwpFy",
        "colab": {
          "base_uri": "https://localhost:8080/",
          "height": 206
        },
        "outputId": "4a121317-d24e-40fa-eda8-8f6e3a874828"
      },
      "outputs": [
        {
          "output_type": "execute_result",
          "data": {
            "text/plain": [
              "  ticker  year quarter  total_word_count       neg       neu       pos  \\\n",
              "0   SWKS  2022      q1              5408  0.013799  0.794847  0.191359   \n",
              "1    CVS  2022      q1              7238  0.011254  0.823173  0.165576   \n",
              "2    VNO  2022      q1              8400  0.014297  0.881848  0.103842   \n",
              "3    BMY  2022      q1              8107  0.012447  0.816974  0.170585   \n",
              "4    LVS  2022      q1              4458  0.021880  0.787235  0.190891   \n",
              "\n",
              "   compound  \n",
              "0  0.266350  \n",
              "1  0.294958  \n",
              "2  0.185106  \n",
              "3  0.266373  \n",
              "4  0.206733  "
            ],
            "text/html": [
              "\n",
              "  <div id=\"df-8bc14f6d-e1fd-48f3-8850-3fad7ec74fd3\" class=\"colab-df-container\">\n",
              "    <div>\n",
              "<style scoped>\n",
              "    .dataframe tbody tr th:only-of-type {\n",
              "        vertical-align: middle;\n",
              "    }\n",
              "\n",
              "    .dataframe tbody tr th {\n",
              "        vertical-align: top;\n",
              "    }\n",
              "\n",
              "    .dataframe thead th {\n",
              "        text-align: right;\n",
              "    }\n",
              "</style>\n",
              "<table border=\"1\" class=\"dataframe\">\n",
              "  <thead>\n",
              "    <tr style=\"text-align: right;\">\n",
              "      <th></th>\n",
              "      <th>ticker</th>\n",
              "      <th>year</th>\n",
              "      <th>quarter</th>\n",
              "      <th>total_word_count</th>\n",
              "      <th>neg</th>\n",
              "      <th>neu</th>\n",
              "      <th>pos</th>\n",
              "      <th>compound</th>\n",
              "    </tr>\n",
              "  </thead>\n",
              "  <tbody>\n",
              "    <tr>\n",
              "      <th>0</th>\n",
              "      <td>SWKS</td>\n",
              "      <td>2022</td>\n",
              "      <td>q1</td>\n",
              "      <td>5408</td>\n",
              "      <td>0.013799</td>\n",
              "      <td>0.794847</td>\n",
              "      <td>0.191359</td>\n",
              "      <td>0.266350</td>\n",
              "    </tr>\n",
              "    <tr>\n",
              "      <th>1</th>\n",
              "      <td>CVS</td>\n",
              "      <td>2022</td>\n",
              "      <td>q1</td>\n",
              "      <td>7238</td>\n",
              "      <td>0.011254</td>\n",
              "      <td>0.823173</td>\n",
              "      <td>0.165576</td>\n",
              "      <td>0.294958</td>\n",
              "    </tr>\n",
              "    <tr>\n",
              "      <th>2</th>\n",
              "      <td>VNO</td>\n",
              "      <td>2022</td>\n",
              "      <td>q1</td>\n",
              "      <td>8400</td>\n",
              "      <td>0.014297</td>\n",
              "      <td>0.881848</td>\n",
              "      <td>0.103842</td>\n",
              "      <td>0.185106</td>\n",
              "    </tr>\n",
              "    <tr>\n",
              "      <th>3</th>\n",
              "      <td>BMY</td>\n",
              "      <td>2022</td>\n",
              "      <td>q1</td>\n",
              "      <td>8107</td>\n",
              "      <td>0.012447</td>\n",
              "      <td>0.816974</td>\n",
              "      <td>0.170585</td>\n",
              "      <td>0.266373</td>\n",
              "    </tr>\n",
              "    <tr>\n",
              "      <th>4</th>\n",
              "      <td>LVS</td>\n",
              "      <td>2022</td>\n",
              "      <td>q1</td>\n",
              "      <td>4458</td>\n",
              "      <td>0.021880</td>\n",
              "      <td>0.787235</td>\n",
              "      <td>0.190891</td>\n",
              "      <td>0.206733</td>\n",
              "    </tr>\n",
              "  </tbody>\n",
              "</table>\n",
              "</div>\n",
              "    <div class=\"colab-df-buttons\">\n",
              "\n",
              "  <div class=\"colab-df-container\">\n",
              "    <button class=\"colab-df-convert\" onclick=\"convertToInteractive('df-8bc14f6d-e1fd-48f3-8850-3fad7ec74fd3')\"\n",
              "            title=\"Convert this dataframe to an interactive table.\"\n",
              "            style=\"display:none;\">\n",
              "\n",
              "  <svg xmlns=\"http://www.w3.org/2000/svg\" height=\"24px\" viewBox=\"0 -960 960 960\">\n",
              "    <path d=\"M120-120v-720h720v720H120Zm60-500h600v-160H180v160Zm220 220h160v-160H400v160Zm0 220h160v-160H400v160ZM180-400h160v-160H180v160Zm440 0h160v-160H620v160ZM180-180h160v-160H180v160Zm440 0h160v-160H620v160Z\"/>\n",
              "  </svg>\n",
              "    </button>\n",
              "\n",
              "  <style>\n",
              "    .colab-df-container {\n",
              "      display:flex;\n",
              "      gap: 12px;\n",
              "    }\n",
              "\n",
              "    .colab-df-convert {\n",
              "      background-color: #E8F0FE;\n",
              "      border: none;\n",
              "      border-radius: 50%;\n",
              "      cursor: pointer;\n",
              "      display: none;\n",
              "      fill: #1967D2;\n",
              "      height: 32px;\n",
              "      padding: 0 0 0 0;\n",
              "      width: 32px;\n",
              "    }\n",
              "\n",
              "    .colab-df-convert:hover {\n",
              "      background-color: #E2EBFA;\n",
              "      box-shadow: 0px 1px 2px rgba(60, 64, 67, 0.3), 0px 1px 3px 1px rgba(60, 64, 67, 0.15);\n",
              "      fill: #174EA6;\n",
              "    }\n",
              "\n",
              "    .colab-df-buttons div {\n",
              "      margin-bottom: 4px;\n",
              "    }\n",
              "\n",
              "    [theme=dark] .colab-df-convert {\n",
              "      background-color: #3B4455;\n",
              "      fill: #D2E3FC;\n",
              "    }\n",
              "\n",
              "    [theme=dark] .colab-df-convert:hover {\n",
              "      background-color: #434B5C;\n",
              "      box-shadow: 0px 1px 3px 1px rgba(0, 0, 0, 0.15);\n",
              "      filter: drop-shadow(0px 1px 2px rgba(0, 0, 0, 0.3));\n",
              "      fill: #FFFFFF;\n",
              "    }\n",
              "  </style>\n",
              "\n",
              "    <script>\n",
              "      const buttonEl =\n",
              "        document.querySelector('#df-8bc14f6d-e1fd-48f3-8850-3fad7ec74fd3 button.colab-df-convert');\n",
              "      buttonEl.style.display =\n",
              "        google.colab.kernel.accessAllowed ? 'block' : 'none';\n",
              "\n",
              "      async function convertToInteractive(key) {\n",
              "        const element = document.querySelector('#df-8bc14f6d-e1fd-48f3-8850-3fad7ec74fd3');\n",
              "        const dataTable =\n",
              "          await google.colab.kernel.invokeFunction('convertToInteractive',\n",
              "                                                    [key], {});\n",
              "        if (!dataTable) return;\n",
              "\n",
              "        const docLinkHtml = 'Like what you see? Visit the ' +\n",
              "          '<a target=\"_blank\" href=https://colab.research.google.com/notebooks/data_table.ipynb>data table notebook</a>'\n",
              "          + ' to learn more about interactive tables.';\n",
              "        element.innerHTML = '';\n",
              "        dataTable['output_type'] = 'display_data';\n",
              "        await google.colab.output.renderOutput(dataTable, element);\n",
              "        const docLink = document.createElement('div');\n",
              "        docLink.innerHTML = docLinkHtml;\n",
              "        element.appendChild(docLink);\n",
              "      }\n",
              "    </script>\n",
              "  </div>\n",
              "\n",
              "\n",
              "<div id=\"df-20105e94-4f9e-4a19-ba1f-12671f1f46d4\">\n",
              "  <button class=\"colab-df-quickchart\" onclick=\"quickchart('df-20105e94-4f9e-4a19-ba1f-12671f1f46d4')\"\n",
              "            title=\"Suggest charts.\"\n",
              "            style=\"display:none;\">\n",
              "\n",
              "<svg xmlns=\"http://www.w3.org/2000/svg\" height=\"24px\"viewBox=\"0 0 24 24\"\n",
              "     width=\"24px\">\n",
              "    <g>\n",
              "        <path d=\"M19 3H5c-1.1 0-2 .9-2 2v14c0 1.1.9 2 2 2h14c1.1 0 2-.9 2-2V5c0-1.1-.9-2-2-2zM9 17H7v-7h2v7zm4 0h-2V7h2v10zm4 0h-2v-4h2v4z\"/>\n",
              "    </g>\n",
              "</svg>\n",
              "  </button>\n",
              "\n",
              "<style>\n",
              "  .colab-df-quickchart {\n",
              "      --bg-color: #E8F0FE;\n",
              "      --fill-color: #1967D2;\n",
              "      --hover-bg-color: #E2EBFA;\n",
              "      --hover-fill-color: #174EA6;\n",
              "      --disabled-fill-color: #AAA;\n",
              "      --disabled-bg-color: #DDD;\n",
              "  }\n",
              "\n",
              "  [theme=dark] .colab-df-quickchart {\n",
              "      --bg-color: #3B4455;\n",
              "      --fill-color: #D2E3FC;\n",
              "      --hover-bg-color: #434B5C;\n",
              "      --hover-fill-color: #FFFFFF;\n",
              "      --disabled-bg-color: #3B4455;\n",
              "      --disabled-fill-color: #666;\n",
              "  }\n",
              "\n",
              "  .colab-df-quickchart {\n",
              "    background-color: var(--bg-color);\n",
              "    border: none;\n",
              "    border-radius: 50%;\n",
              "    cursor: pointer;\n",
              "    display: none;\n",
              "    fill: var(--fill-color);\n",
              "    height: 32px;\n",
              "    padding: 0;\n",
              "    width: 32px;\n",
              "  }\n",
              "\n",
              "  .colab-df-quickchart:hover {\n",
              "    background-color: var(--hover-bg-color);\n",
              "    box-shadow: 0 1px 2px rgba(60, 64, 67, 0.3), 0 1px 3px 1px rgba(60, 64, 67, 0.15);\n",
              "    fill: var(--button-hover-fill-color);\n",
              "  }\n",
              "\n",
              "  .colab-df-quickchart-complete:disabled,\n",
              "  .colab-df-quickchart-complete:disabled:hover {\n",
              "    background-color: var(--disabled-bg-color);\n",
              "    fill: var(--disabled-fill-color);\n",
              "    box-shadow: none;\n",
              "  }\n",
              "\n",
              "  .colab-df-spinner {\n",
              "    border: 2px solid var(--fill-color);\n",
              "    border-color: transparent;\n",
              "    border-bottom-color: var(--fill-color);\n",
              "    animation:\n",
              "      spin 1s steps(1) infinite;\n",
              "  }\n",
              "\n",
              "  @keyframes spin {\n",
              "    0% {\n",
              "      border-color: transparent;\n",
              "      border-bottom-color: var(--fill-color);\n",
              "      border-left-color: var(--fill-color);\n",
              "    }\n",
              "    20% {\n",
              "      border-color: transparent;\n",
              "      border-left-color: var(--fill-color);\n",
              "      border-top-color: var(--fill-color);\n",
              "    }\n",
              "    30% {\n",
              "      border-color: transparent;\n",
              "      border-left-color: var(--fill-color);\n",
              "      border-top-color: var(--fill-color);\n",
              "      border-right-color: var(--fill-color);\n",
              "    }\n",
              "    40% {\n",
              "      border-color: transparent;\n",
              "      border-right-color: var(--fill-color);\n",
              "      border-top-color: var(--fill-color);\n",
              "    }\n",
              "    60% {\n",
              "      border-color: transparent;\n",
              "      border-right-color: var(--fill-color);\n",
              "    }\n",
              "    80% {\n",
              "      border-color: transparent;\n",
              "      border-right-color: var(--fill-color);\n",
              "      border-bottom-color: var(--fill-color);\n",
              "    }\n",
              "    90% {\n",
              "      border-color: transparent;\n",
              "      border-bottom-color: var(--fill-color);\n",
              "    }\n",
              "  }\n",
              "</style>\n",
              "\n",
              "  <script>\n",
              "    async function quickchart(key) {\n",
              "      const quickchartButtonEl =\n",
              "        document.querySelector('#' + key + ' button');\n",
              "      quickchartButtonEl.disabled = true;  // To prevent multiple clicks.\n",
              "      quickchartButtonEl.classList.add('colab-df-spinner');\n",
              "      try {\n",
              "        const charts = await google.colab.kernel.invokeFunction(\n",
              "            'suggestCharts', [key], {});\n",
              "      } catch (error) {\n",
              "        console.error('Error during call to suggestCharts:', error);\n",
              "      }\n",
              "      quickchartButtonEl.classList.remove('colab-df-spinner');\n",
              "      quickchartButtonEl.classList.add('colab-df-quickchart-complete');\n",
              "    }\n",
              "    (() => {\n",
              "      let quickchartButtonEl =\n",
              "        document.querySelector('#df-20105e94-4f9e-4a19-ba1f-12671f1f46d4 button');\n",
              "      quickchartButtonEl.style.display =\n",
              "        google.colab.kernel.accessAllowed ? 'block' : 'none';\n",
              "    })();\n",
              "  </script>\n",
              "</div>\n",
              "    </div>\n",
              "  </div>\n"
            ]
          },
          "metadata": {},
          "execution_count": 3
        }
      ],
      "source": [
        "import pandas as pd\n",
        "# read finance data from csv\n",
        "finance_data = pd.read_csv('/content/drive/MyDrive/CIS 606/finance_data.csv')\n",
        "# read text data from csv\n",
        "text_data = pd.read_csv('/content/drive/MyDrive/CIS 606/text_data.csv')\n",
        "\n",
        "# look at the data sample\n",
        "finance_data.head()\n",
        "text_data.head()"
      ]
    },
    {
      "cell_type": "code",
      "source": [
        "from google.colab import drive\n",
        "drive.mount('/content/drive')"
      ],
      "metadata": {
        "colab": {
          "base_uri": "https://localhost:8080/"
        },
        "id": "g6iGZfSdeGj5",
        "outputId": "be96a3f1-6e1c-4d31-9dd7-024056e00ee3"
      },
      "execution_count": null,
      "outputs": [
        {
          "output_type": "stream",
          "name": "stdout",
          "text": [
            "Mounted at /content/drive\n"
          ]
        }
      ]
    },
    {
      "cell_type": "markdown",
      "source": [
        "**Question 1: If a row in finance_data has null sic_two_digit, that means the financial data could not be effectively extracted from the database. Write code to remove the rows in finance_data if sic_two_digit is null.**"
      ],
      "metadata": {
        "id": "afHUCES1x0QM"
      }
    },
    {
      "cell_type": "code",
      "source": [
        "finance_data = finance_data.dropna(subset=['sic_two_digit'])\n",
        "print(finance_data.head())"
      ],
      "metadata": {
        "colab": {
          "base_uri": "https://localhost:8080/"
        },
        "id": "w2FI0UW2e6sm",
        "outputId": "4b90d0b1-c3c9-4156-d26c-254ca81b6c64"
      },
      "execution_count": null,
      "outputs": [
        {
          "output_type": "stream",
          "name": "stdout",
          "text": [
            "  ticker  year quarter  sic_two_digit    sales  revenue  net_income  \\\n",
            "0    AAL  2022      q1           45.0   8899.0   8899.0     -1635.0   \n",
            "1    ADM  2022      q1           20.0  23650.0  23650.0      1054.0   \n",
            "2    ADP  2022      q1           73.0   3832.3   3832.3       700.5   \n",
            "3   ADSK  2022      q1           73.0   1170.0   1170.0       146.0   \n",
            "4    AIG  2022      q1           63.0  14966.0  14966.0      4173.0   \n",
            "\n",
            "   total_assets  \n",
            "0       67401.0  \n",
            "1       64866.0  \n",
            "2       59987.2  \n",
            "3        8261.0  \n",
            "4      573513.0  \n"
          ]
        }
      ]
    },
    {
      "cell_type": "markdown",
      "source": [
        "**Question 2: After we describe the data, we notice that the revenue column has remaining null values. Write code to fill the null values in revenue with the average of non-null revenue values.**"
      ],
      "metadata": {
        "id": "g1orGHBwyZoZ"
      }
    },
    {
      "cell_type": "code",
      "source": [
        "average_revenue = finance_data['revenue'].mean()\n",
        "finance_data['revenue'].fillna(average_revenue, inplace=True)\n",
        "print(average_revenue)\n",
        "print(finance_data.head())"
      ],
      "metadata": {
        "colab": {
          "base_uri": "https://localhost:8080/"
        },
        "id": "vbNebXImfBtZ",
        "outputId": "303a681f-e654-4a1a-b54b-75df60eb1c1f"
      },
      "execution_count": null,
      "outputs": [
        {
          "output_type": "stream",
          "name": "stdout",
          "text": [
            "8477.400159574468\n",
            "  ticker  year quarter  sic_two_digit    sales  revenue  net_income  \\\n",
            "0    AAL  2022      q1           45.0   8899.0   8899.0     -1635.0   \n",
            "1    ADM  2022      q1           20.0  23650.0  23650.0      1054.0   \n",
            "2    ADP  2022      q1           73.0   3832.3   3832.3       700.5   \n",
            "3   ADSK  2022      q1           73.0   1170.0   1170.0       146.0   \n",
            "4    AIG  2022      q1           63.0  14966.0  14966.0      4173.0   \n",
            "\n",
            "   total_assets  \n",
            "0       67401.0  \n",
            "1       64866.0  \n",
            "2       59987.2  \n",
            "3        8261.0  \n",
            "4      573513.0  \n"
          ]
        }
      ]
    },
    {
      "cell_type": "markdown",
      "source": [
        "**Question 3: After further examination of the data, we find that there is a wrong entry in the ticker column. Write code to replace the ticker which equals 'BFB' to 'BF.B' in text_data.**"
      ],
      "metadata": {
        "id": "q6L4xHs7zKUb"
      }
    },
    {
      "cell_type": "code",
      "source": [
        "text_data['ticker'] = text_data['ticker'].replace('BFB', 'BF.B')\n"
      ],
      "metadata": {
        "id": "sMAxcw5efSPe"
      },
      "execution_count": null,
      "outputs": []
    },
    {
      "cell_type": "markdown",
      "source": [
        "**Question 4: Write code to identify the row(s) in text_data whose ticker is not in finance_data.**"
      ],
      "metadata": {
        "id": "IZ4cDM4czmgZ"
      }
    },
    {
      "cell_type": "code",
      "source": [
        "not_in_finance_data = text_data[~text_data['ticker'].isin(finance_data['ticker'])]\n",
        "print(not_in_finance_data)"
      ],
      "metadata": {
        "colab": {
          "base_uri": "https://localhost:8080/"
        },
        "id": "MmrkJQ1OfdKo",
        "outputId": "0c97df6a-f844-4ab0-a643-6ed5f4e6d0b1"
      },
      "execution_count": null,
      "outputs": [
        {
          "output_type": "stream",
          "name": "stdout",
          "text": [
            "   ticker  year quarter  total_word_count       neg       neu       pos  \\\n",
            "33    FRC  2022      q1              8017  0.010314  0.811126  0.178553   \n",
            "\n",
            "    compound  \n",
            "33  0.281495  \n"
          ]
        }
      ]
    },
    {
      "cell_type": "markdown",
      "source": [
        "**Question 5: Write code to merge finance_data and text_data on three columns: ticker, year, and quarter. Name the merged DataFrame \"merged_data\".**\n",
        "\n",
        "*Hint: If two rows in finance_data and text_data have equal values on all of the three fields (i.e., ticker, year, and quarter), we merge the rows.*"
      ],
      "metadata": {
        "id": "xtGjU9eyz1gO"
      }
    },
    {
      "cell_type": "code",
      "source": [
        "merged_data = pd.merge(finance_data, text_data, on=['ticker', 'year', 'quarter'])\n",
        "print(merged_data)"
      ],
      "metadata": {
        "colab": {
          "base_uri": "https://localhost:8080/"
        },
        "id": "ZbPlhMTJfnvl",
        "outputId": "82a044f1-3dae-4618-cf68-9b7957be2e47"
      },
      "execution_count": null,
      "outputs": [
        {
          "output_type": "stream",
          "name": "stdout",
          "text": [
            "   ticker  year quarter  sic_two_digit      sales      revenue  net_income  \\\n",
            "0     AAL  2022      q1           45.0   8899.000   8899.00000   -1635.000   \n",
            "1     ADM  2022      q1           20.0  23650.000  23650.00000    1054.000   \n",
            "2     ADP  2022      q1           73.0   3832.300   3832.30000     700.500   \n",
            "3    ADSK  2022      q1           73.0   1170.000   1170.00000     146.000   \n",
            "4     AIG  2022      q1           63.0  14966.000  14966.00000    4173.000   \n",
            "..    ...   ...     ...            ...        ...          ...         ...   \n",
            "94    WFC  2022      q1           60.0  18688.000   8477.40016    3788.000   \n",
            "95    WRK  2022      q1           26.0   4952.200   4952.20000     182.300   \n",
            "96    WST  2022      q1           30.0    720.000    720.00000     173.800   \n",
            "97   WYNN  2022      q1           79.0    953.334    953.33400    -183.324   \n",
            "98   ZION  2022      q1           60.0    697.000   8477.40016     203.000   \n",
            "\n",
            "    total_assets  total_word_count       neg       neu       pos  compound  \n",
            "0       67401.00             10300  0.019178  0.817217  0.163611  0.199950  \n",
            "1       64866.00              6814  0.025491  0.792376  0.182133  0.255998  \n",
            "2       59987.20              9625  0.014650  0.844880  0.140469  0.327668  \n",
            "3        8261.00              7616  0.012089  0.825957  0.161957  0.287853  \n",
            "4      573513.00              8345  0.035527  0.826107  0.138374  0.232624  \n",
            "..           ...               ...       ...       ...       ...       ...  \n",
            "94    1939709.00              8605  0.019444  0.827951  0.152605  0.225632  \n",
            "95      29082.50              8506  0.014237  0.811604  0.174155  0.282137  \n",
            "96       3294.70              5054  0.015785  0.806440  0.177788  0.242217  \n",
            "97      12179.31              4467  0.007189  0.825135  0.167677  0.254309  \n",
            "98      91126.00              7454  0.019895  0.823439  0.156661  0.246302  \n",
            "\n",
            "[99 rows x 13 columns]\n"
          ]
        }
      ]
    },
    {
      "cell_type": "markdown",
      "source": [
        "**Question 6: Write code to count the number of rows for each unique sic_two_digit in merged_data**"
      ],
      "metadata": {
        "id": "vYzrlhvv0-J6"
      }
    },
    {
      "cell_type": "code",
      "source": [
        "sic_counts = merged_data['sic_two_digit'].value_counts()\n",
        "print(sic_counts)"
      ],
      "metadata": {
        "colab": {
          "base_uri": "https://localhost:8080/"
        },
        "id": "XWjQfjtSf0MN",
        "outputId": "6a18605c-1751-4cd2-efc1-3c8d446f32da"
      },
      "execution_count": null,
      "outputs": [
        {
          "output_type": "stream",
          "name": "stdout",
          "text": [
            "36.0    12\n",
            "28.0    11\n",
            "73.0    10\n",
            "60.0     6\n",
            "49.0     5\n",
            "13.0     5\n",
            "67.0     5\n",
            "35.0     4\n",
            "20.0     4\n",
            "37.0     3\n",
            "26.0     3\n",
            "38.0     3\n",
            "48.0     2\n",
            "30.0     2\n",
            "79.0     2\n",
            "87.0     2\n",
            "45.0     2\n",
            "80.0     2\n",
            "53.0     2\n",
            "44.0     2\n",
            "61.0     2\n",
            "63.0     2\n",
            "29.0     1\n",
            "15.0     1\n",
            "39.0     1\n",
            "57.0     1\n",
            "27.0     1\n",
            "42.0     1\n",
            "59.0     1\n",
            "31.0     1\n",
            "Name: sic_two_digit, dtype: int64\n"
          ]
        }
      ]
    },
    {
      "cell_type": "markdown",
      "source": [
        "**Question 7: Add a new column labeled as industry to merged_data. If sic_two_digit is 36, industry equals 'Electronics'. If sic_two_digit is 28, industry equals 'Chemicals'. If sic_two_digit is 73, industry is 'Business Services'. For other sic_two_digit values, industry is 'Others'**"
      ],
      "metadata": {
        "id": "RYJfgGNS18Q7"
      }
    },
    {
      "cell_type": "code",
      "source": [
        "# Create an empty list to store the industry values\n",
        "industry_values = []\n",
        "\n",
        "# Iterate through the 'sic_two_digit' column\n",
        "for sic in merged_data['sic_two_digit']:\n",
        "    if sic == 36:\n",
        "        industry_values.append('Electronics')\n",
        "    elif sic == 28:\n",
        "        industry_values.append('Chemicals')\n",
        "    elif sic == 73:\n",
        "        industry_values.append('Business Services')\n",
        "    else:\n",
        "        industry_values.append('Others')\n",
        "\n",
        "# Add the 'industry' column to the 'merged_data' DataFrame\n",
        "merged_data['industry'] = industry_values\n",
        "\n",
        "# The 'merged_data' DataFrame now has the 'industry' column based on the specified conditions using loops.\n",
        "print(merged_data)"
      ],
      "metadata": {
        "colab": {
          "base_uri": "https://localhost:8080/"
        },
        "id": "hBJBXC00f963",
        "outputId": "0415b806-3014-4747-d0df-93d2ed59cf17"
      },
      "execution_count": null,
      "outputs": [
        {
          "output_type": "stream",
          "name": "stdout",
          "text": [
            "   ticker  year quarter  sic_two_digit      sales      revenue  net_income  \\\n",
            "0     AAL  2022      q1           45.0   8899.000   8899.00000   -1635.000   \n",
            "1     ADM  2022      q1           20.0  23650.000  23650.00000    1054.000   \n",
            "2     ADP  2022      q1           73.0   3832.300   3832.30000     700.500   \n",
            "3    ADSK  2022      q1           73.0   1170.000   1170.00000     146.000   \n",
            "4     AIG  2022      q1           63.0  14966.000  14966.00000    4173.000   \n",
            "..    ...   ...     ...            ...        ...          ...         ...   \n",
            "94    WFC  2022      q1           60.0  18688.000   8477.40016    3788.000   \n",
            "95    WRK  2022      q1           26.0   4952.200   4952.20000     182.300   \n",
            "96    WST  2022      q1           30.0    720.000    720.00000     173.800   \n",
            "97   WYNN  2022      q1           79.0    953.334    953.33400    -183.324   \n",
            "98   ZION  2022      q1           60.0    697.000   8477.40016     203.000   \n",
            "\n",
            "    total_assets  total_word_count       neg       neu       pos  compound  \\\n",
            "0       67401.00             10300  0.019178  0.817217  0.163611  0.199950   \n",
            "1       64866.00              6814  0.025491  0.792376  0.182133  0.255998   \n",
            "2       59987.20              9625  0.014650  0.844880  0.140469  0.327668   \n",
            "3        8261.00              7616  0.012089  0.825957  0.161957  0.287853   \n",
            "4      573513.00              8345  0.035527  0.826107  0.138374  0.232624   \n",
            "..           ...               ...       ...       ...       ...       ...   \n",
            "94    1939709.00              8605  0.019444  0.827951  0.152605  0.225632   \n",
            "95      29082.50              8506  0.014237  0.811604  0.174155  0.282137   \n",
            "96       3294.70              5054  0.015785  0.806440  0.177788  0.242217   \n",
            "97      12179.31              4467  0.007189  0.825135  0.167677  0.254309   \n",
            "98      91126.00              7454  0.019895  0.823439  0.156661  0.246302   \n",
            "\n",
            "             industry  \n",
            "0              Others  \n",
            "1              Others  \n",
            "2   Business Services  \n",
            "3   Business Services  \n",
            "4              Others  \n",
            "..                ...  \n",
            "94             Others  \n",
            "95             Others  \n",
            "96             Others  \n",
            "97             Others  \n",
            "98             Others  \n",
            "\n",
            "[99 rows x 14 columns]\n"
          ]
        }
      ]
    },
    {
      "cell_type": "markdown",
      "source": [
        "**Question 8: Write code to answer the following question: for each industry (i.e., Electronics, Chemicals, Business Services and Others), what is the average revenue and average total_word_count?**"
      ],
      "metadata": {
        "id": "RztwYZob2Wma"
      }
    },
    {
      "cell_type": "code",
      "source": [
        "# Group the data by the 'industry' column\n",
        "industry_groups = merged_data.groupby('industry')\n",
        "\n",
        "# Calculate and print the averages\n",
        "for industry, group_data in industry_groups:\n",
        "    avg_revenue = group_data['revenue'].mean()\n",
        "    avg_word_count = group_data['total_word_count'].mean()\n",
        "    print(f'Industry: {industry}, Average Revenue: {avg_revenue:.2f}, Average Total Word Count: {avg_word_count:.2f}')"
      ],
      "metadata": {
        "colab": {
          "base_uri": "https://localhost:8080/"
        },
        "id": "ROIAE5bmgRnV",
        "outputId": "95772a0f-f116-4e21-f5b4-a2e917af8a0a"
      },
      "execution_count": null,
      "outputs": [
        {
          "output_type": "stream",
          "name": "stdout",
          "text": [
            "Industry: Business Services, Average Revenue: 3110.75, Average Total Word Count: 6324.90\n",
            "Industry: Chemicals, Average Revenue: 7030.80, Average Total Word Count: 7960.55\n",
            "Industry: Electronics, Average Revenue: 4168.83, Average Total Word Count: 7508.17\n",
            "Industry: Others, Average Revenue: 10315.01, Average Total Word Count: 7438.38\n"
          ]
        }
      ]
    },
    {
      "cell_type": "markdown",
      "source": [
        "**Question 9: Write code to answer the following question: what is the correlation between a company's return on asset and its compound sentiment score?**\n",
        "\n",
        "*Hint: Return on asset is net income divided by total assets.*"
      ],
      "metadata": {
        "id": "vM1covA82q0x"
      }
    },
    {
      "cell_type": "code",
      "source": [
        "merged_data['return_on_asset'] = merged_data['net_income'] / merged_data['total_assets']\n",
        "correlation = merged_data['return_on_asset'].corr(merged_data['compound'])\n",
        "print(f'Correlation between ROA and Sentiment Score: {correlation:.2f}')"
      ],
      "metadata": {
        "colab": {
          "base_uri": "https://localhost:8080/"
        },
        "id": "Syv2jG_1heqg",
        "outputId": "364d856e-2267-498b-ae31-4ee92cb58a4c"
      },
      "execution_count": null,
      "outputs": [
        {
          "output_type": "stream",
          "name": "stdout",
          "text": [
            "Correlation between ROA and Sentiment Score: 0.02\n"
          ]
        }
      ]
    },
    {
      "cell_type": "markdown",
      "source": [
        "**Question 10: Plot a scatter plot with return on asset and compound sentiment score on the x-axis and y-axis, respectively. Explain the pattern that you see in the plot.**"
      ],
      "metadata": {
        "id": "v-3K6ks03Ib_"
      }
    },
    {
      "cell_type": "code",
      "source": [
        "import matplotlib.pyplot as plt\n",
        "import seaborn as sns\n",
        "\n",
        "# Create a scatter plot\n",
        "plt.figure(figsize=(10, 6))\n",
        "sns.scatterplot(x='return_on_asset', y='compound', data=merged_data)\n",
        "\n",
        "# Add labels and a title\n",
        "plt.xlabel('Return on Asset (ROA)')\n",
        "plt.ylabel('Compound Sentiment Score')\n",
        "plt.title('Scatter Plot of ROA vs. Compound Sentiment Score')\n",
        "\n",
        "# Show the plot\n",
        "plt.show()"
      ],
      "metadata": {
        "colab": {
          "base_uri": "https://localhost:8080/",
          "height": 564
        },
        "id": "PxJYY71Aiv7X",
        "outputId": "16560c6c-3bc4-4e0d-bff7-cdeee6ccda11"
      },
      "execution_count": null,
      "outputs": [
        {
          "output_type": "display_data",
          "data": {
            "text/plain": [
              "<Figure size 1000x600 with 1 Axes>"
            ],
            "image/png": "[encoded data removed]"
          },
          "metadata": {}
        }
      ]
    }
  ]
}