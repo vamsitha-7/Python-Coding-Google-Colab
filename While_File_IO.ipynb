{
  "nbformat": 4,
  "nbformat_minor": 0,
  "metadata": {
    "colab": {
      "provenance": []
    },
    "kernelspec": {
      "name": "python3",
      "display_name": "Python 3"
    },
    "language_info": {
      "name": "python"
    }
  },
  "cells": [
    {
      "cell_type": "markdown",
      "source": [
        "**Practice 1: The following code snippet shows an inventory management system that has 20 items now. Customers have put in a list of purchase orders, and the purchase amounts on these orders are listed in amount_in_pruchase_orders. The inventory management processes the orders one by one. However, the level of current inventory will eventually drop below 0. Modify the following code snippet to test whether the current inventory is smaller than next purchase amount. If yes, the system should stop processing the next purchase order and return the quantity of the remaining inventory.**\n",
        "\n",
        "```\n",
        "current_inventory = 20\n",
        "amount_in_pruchase_orders = [1, 2, 3, 4, 5, 6, 7, 8]\n",
        "idx = 0\n",
        "while idx < len(amount_in_pruchase_orders):\n",
        "  current_inventory = current_inventory - amount_in_pruchase_orders[idx]\n",
        "  idx = idx + 1\n",
        "```\n",
        "\n"
      ],
      "metadata": {
        "id": "upV-mgery_MS"
      }
    },
    {
      "cell_type": "code",
      "source": [
        "current_inventory = 20\n",
        "amount_in_purchase_orders = [1, 2, 3, 4, 5, 6, 7, 8]\n",
        "idx = 0\n",
        "while idx < len(amount_in_purchase_orders):\n",
        "    if current_inventory < amount_in_purchase_orders[idx]:\n",
        "        break\n",
        "    current_inventory= current_inventory-amount_in_purchase_orders[idx]\n",
        "    idx += 1\n",
        "remaining_inventory = current_inventory\n",
        "print(\"Remaining Inventory:\", remaining_inventory)"
      ],
      "metadata": {
        "colab": {
          "base_uri": "https://localhost:8080/"
        },
        "id": "9bl9iVv_kOQj",
        "outputId": "4f61caa7-3c32-463e-8649-77ba0663a5ab"
      },
      "execution_count": 1,
      "outputs": [
        {
          "output_type": "stream",
          "name": "stdout",
          "text": [
            "Remaining Inventory: 5\n"
          ]
        }
      ]
    },
    {
      "cell_type": "markdown",
      "source": [
        "**Practice 2: What is wrong with the following code snippet?**\n",
        "\n",
        "\n",
        "\n",
        "```\n",
        "i = 0\n",
        "while i < 5:\n",
        "  if i == 3:\n",
        "    continue\n",
        "  print(i)\n",
        "  i = i + 1  \n",
        "```\n",
        "\n"
      ],
      "metadata": {
        "id": "eej1yNhHaKcL"
      }
    },
    {
      "cell_type": "code",
      "source": [
        "i = 0\n",
        "while i < 5:\n",
        "  i = i + 1\n",
        "  if i == 3:\n",
        "    continue\n",
        "  print(i)"
      ],
      "metadata": {
        "colab": {
          "base_uri": "https://localhost:8080/"
        },
        "id": "OcBHmXwUkXL_",
        "outputId": "1ffb7d7e-3818-40b3-b36e-306f14d78860"
      },
      "execution_count": 2,
      "outputs": [
        {
          "output_type": "stream",
          "name": "stdout",
          "text": [
            "1\n",
            "2\n",
            "4\n",
            "5\n"
          ]
        }
      ]
    }
  ]
}