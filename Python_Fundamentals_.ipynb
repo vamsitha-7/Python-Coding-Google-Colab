{
  "nbformat": 4,
  "nbformat_minor": 0,
  "metadata": {
    "colab": {
      "provenance": []
    },
    "kernelspec": {
      "name": "python3",
      "display_name": "Python 3"
    },
    "language_info": {
      "name": "python"
    }
  },
  "cells": [
    {
      "cell_type": "code",
      "source": [
        "dict_painting = {\n",
        "  \"painter\": \"Andy Warhol\", # string\n",
        "  \"title\": \"Campbell's Soup Cans\",\n",
        "  \"year\": 1962, # int\n",
        "  \"museum\": \"MoMA\",\n",
        "  \"location\": [\"Floor 4\", 412], # list\n",
        "  \"on tour\": False # boolean\n",
        "}"
      ],
      "metadata": {
        "id": "kQesJdlQf_7_"
      },
      "execution_count": 2,
      "outputs": []
    },
    {
      "cell_type": "markdown",
      "source": [
        "**Practice 1: Check if \"painter\" is one of the keys in dict_painting. If yes, print \"yes, 'painter' is one of the keys\" and continue to check if the painter is \"Claude Monet\". If yes, print \"the painter is correct\"; if no, print \"the painter is incorrect\".**"
      ],
      "metadata": {
        "id": "IyqtAFezcUZV"
      }
    },
    {
      "cell_type": "code",
      "source": [
        "if \"painter\" in dict_painting.keys():\n",
        "  print(\"yes, 'painter' is one of the keys\")\n",
        "  if \"painter\"== \"Claude Monet\":\n",
        "    print(\"the painter is correct\")\n",
        "  else:\n",
        "    print(\"the painter is incorrect\")\n",
        "else:\n",
        "  print(\"no\")"
      ],
      "metadata": {
        "colab": {
          "base_uri": "https://localhost:8080/"
        },
        "id": "0n2BRp5VW-CL",
        "outputId": "c833fe2a-06fe-4d5f-9310-40d36ffa122e"
      },
      "execution_count": 3,
      "outputs": [
        {
          "output_type": "stream",
          "name": "stdout",
          "text": [
            "yes, 'painter' is one of the keys\n",
            "the painter is incorrect\n"
          ]
        }
      ]
    },
    {
      "cell_type": "markdown",
      "source": [
        "**Practice 2: Loop through the keys of dict_painting and print every key**"
      ],
      "metadata": {
        "id": "OcrtGJDnfFW5"
      }
    },
    {
      "cell_type": "code",
      "source": [
        "for key in dict_painting.keys():\n",
        "  print(key)"
      ],
      "metadata": {
        "colab": {
          "base_uri": "https://localhost:8080/"
        },
        "id": "VIc-MDe0XQzj",
        "outputId": "46c1bf34-fae6-45f4-dde6-ae2e83666e1e"
      },
      "execution_count": 4,
      "outputs": [
        {
          "output_type": "stream",
          "name": "stdout",
          "text": [
            "painter\n",
            "title\n",
            "year\n",
            "museum\n",
            "location\n",
            "on tour\n"
          ]
        }
      ]
    },
    {
      "cell_type": "markdown",
      "source": [
        "**Practice 3: Create a nested dictionary to record the following information.**\n",
        "![nested_dict.png](data:image/png;base64,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)"
      ],
      "metadata": {
        "id": "Kl-5_UrpT5Yf"
      }
    },
    {
      "cell_type": "code",
      "source": [
        "dict_nested = {\n",
        "    \"song1\" : {\n",
        "      \"title\": \"Flowers\",\n",
        "      \"whether_live\": \"True\",\n",
        "      \"duration\":201\n",
        "    },\n",
        "    \"song2\": {\n",
        "      \"title\": \"Treasure\",\n",
        "      \"whether_live\": \"False\",\n",
        "      \"duration\":178\n",
        "    },\n",
        "}\n",
        "print(dict_nested)"
      ],
      "metadata": {
        "colab": {
          "base_uri": "https://localhost:8080/"
        },
        "id": "Y_SzC5JnXlwq",
        "outputId": "344f52b0-f835-4788-b2c9-54cd3981999f"
      },
      "execution_count": 5,
      "outputs": [
        {
          "output_type": "stream",
          "name": "stdout",
          "text": [
            "{'song1': {'title': 'Flowers', 'whether_live': 'True', 'duration': 201}, 'song2': {'title': 'Treasure', 'whether_live': 'False', 'duration': 178}}\n"
          ]
        }
      ]
    },
    {
      "cell_type": "markdown",
      "source": [
        "**Practice 4: Loop through the dictionary you just created to test whether each song has a duration greater than 200. If yes, print \"{title} is longer than 200 seconds; if not, print \"{title} isn't longer than 200 seconds.\"**"
      ],
      "metadata": {
        "id": "fFf94yeewUsa"
      }
    },
    {
      "cell_type": "code",
      "source": [
        "for key in dict_nested.keys():\n",
        "  if dict_nested[key][\"duration\"]>200:\n",
        "   print(dict_nested[key][\"title\"], \"is longer than 200 seconds\")\n",
        "  else:\n",
        "    print(dict_nested[key][\"title\"], \"isn't longer than 200 seconds\")\n"
      ],
      "metadata": {
        "colab": {
          "base_uri": "https://localhost:8080/"
        },
        "id": "RXf6uMZeZxs_",
        "outputId": "ceeae675-4133-4c2d-9d46-a7db30e68404"
      },
      "execution_count": 6,
      "outputs": [
        {
          "output_type": "stream",
          "name": "stdout",
          "text": [
            "Flowers is longer than 200 seconds\n",
            "Treasure isn't longer than 200 seconds\n"
          ]
        }
      ]
    },
    {
      "cell_type": "markdown",
      "source": [
        "**Practice 5: The following code snippet shows an inventory management system that has 20 items now. Customers have put in a list of purchase orders, and the purchase amounts on these orders are listed in amount_in_pruchase_orders. The inventory management processes the orders one by one. However, the level of current inventory will eventually drop below 0. Modify the following code snippet to test whether the current inventory is smaller than the next purchase amount. If yes, the system should stop processing the next purchase order and return the quantity of the remaining inventory.**\n",
        "\n",
        "```\n",
        "current_inventory = 20\n",
        "amount_in_pruchase_orders = [1, 2, 3, 4, 5, 6, 7, 8]\n",
        "idx = 0\n",
        "while idx < len(amount_in_pruchase_orders):\n",
        "  current_inventory = current_inventory - amount_in_pruchase_orders[idx]\n",
        "  idx = idx + 1\n",
        "```\n",
        "\n"
      ],
      "metadata": {
        "id": "upV-mgery_MS"
      }
    },
    {
      "cell_type": "code",
      "source": [
        "current_inventory = 20\n",
        "amount_in_purchase_orders = [1, 2, 3, 4, 5, 6, 7, 8]\n",
        "idx = 0\n",
        "while idx < len(amount_in_purchase_orders):\n",
        "    if current_inventory < amount_in_purchase_orders[idx]:\n",
        "        break\n",
        "    current_inventory= current_inventory-amount_in_purchase_orders[idx]\n",
        "    idx += 1\n",
        "remaining_inventory = current_inventory\n",
        "print(\"Remaining Inventory:\", remaining_inventory)\n",
        "\n"
      ],
      "metadata": {
        "colab": {
          "base_uri": "https://localhost:8080/"
        },
        "id": "u1g41OXNg6t_",
        "outputId": "84a47526-242d-4157-c7a0-0dbaf82b1b66"
      },
      "execution_count": 10,
      "outputs": [
        {
          "output_type": "stream",
          "name": "stdout",
          "text": [
            "Remaining Inventory: 5\n"
          ]
        }
      ]
    },
    {
      "cell_type": "markdown",
      "source": [
        "**Practice 6: What is wrong with the following code snippet?**"
      ],
      "metadata": {
        "id": "lOs9WbfWa8N8"
      }
    },
    {
      "cell_type": "code",
      "execution_count": 8,
      "metadata": {
        "id": "_Io1L3fraoYG",
        "colab": {
          "base_uri": "https://localhost:8080/"
        },
        "outputId": "b00744da-6b22-49ff-c649-7ed803eb4f2a"
      },
      "outputs": [
        {
          "output_type": "stream",
          "name": "stdout",
          "text": [
            "1\n",
            "2\n",
            "4\n",
            "5\n"
          ]
        }
      ],
      "source": [
        "i = 0\n",
        "while i < 5:\n",
        "  i = i + 1\n",
        "  if i == 3:\n",
        "    continue\n",
        "  print(i)\n",
        ""
      ]
    }
  ]
}