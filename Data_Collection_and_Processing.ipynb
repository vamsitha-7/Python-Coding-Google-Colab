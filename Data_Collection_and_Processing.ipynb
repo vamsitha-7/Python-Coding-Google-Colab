{
  "nbformat": 4,
  "nbformat_minor": 0,
  "metadata": {
    "colab": {
      "provenance": []
    },
    "kernelspec": {
      "name": "python3",
      "display_name": "Python 3"
    },
    "language_info": {
      "name": "python"
    }
  },
  "cells": [
    {
      "cell_type": "code",
      "source": [
        "import requests"
      ],
      "metadata": {
        "id": "HSIOpheUx9eL"
      },
      "execution_count": 7,
      "outputs": []
    },
    {
      "cell_type": "code",
      "source": [
        "from google.colab import drive\n",
        "drive.mount('/content/drive')"
      ],
      "metadata": {
        "id": "4IN5Hy0_mU7k",
        "colab": {
          "base_uri": "https://localhost:8080/"
        },
        "outputId": "e3309844-4071-476b-ea46-85df1a014d2a"
      },
      "execution_count": 8,
      "outputs": [
        {
          "output_type": "stream",
          "name": "stdout",
          "text": [
            "Drive already mounted at /content/drive; to attempt to forcibly remount, call drive.mount(\"/content/drive\", force_remount=True).\n"
          ]
        }
      ]
    },
    {
      "cell_type": "code",
      "execution_count": 9,
      "metadata": {
        "id": "kPehuRz_mn6C"
      },
      "outputs": [],
      "source": [
        "def get_earnings_call_transcript(api_key, company, year, quarter, remarks_count):\n",
        "  url = 'https://api.aletheiaapi.com/EarningsCall'\n",
        "\n",
        "  # Add code below to obtain all the remarks from url\n",
        "  # If the remark is not spoken by an external speaker, append the remark to a text file\n",
        "  # Name the text file as \"company_year_quarter.txt\" (e.g., \"AAPL_2022_q1.txt\")\n",
        "\n",
        "  # In class: write some code to obtain response from the url above\n",
        "  # HINT: use requests.get()\n",
        "  #using empty list named remarks to store the remarks\n",
        "  remarks = []\n",
        "  begin = 0\n",
        "  while(begin < int(remarks_count)):\n",
        "    response = requests.get(url, params = {\n",
        "      \"key\": api_key,\n",
        "      \"company\": company,\n",
        "      \"year\": year,\n",
        "      \"quarter\": quarter,\n",
        "      \"begin\": begin,\n",
        "      \"end\": begin + 19\n",
        "    } )\n",
        "\n",
        "    # Checking of the response status\n",
        "    if response.status_code == 200:\n",
        "      #converting response to JSON\n",
        "      data = response.json()\n",
        "      #Checking for remarks\n",
        "      for remark in data.get('Remarks', []):\n",
        "          if not remark['SpokenBy']['IsExternal']:\n",
        "              # If the remark is not made by an external speaker, adding it to remarks list\n",
        "              remarks.append(remark['Remark'])\n",
        "\n",
        "    begin += 20\n",
        "      # Creating the file based on company, year, and quarter to save the remarks\n",
        "    filename = f\"{company}_{year}_{quarter}.txt\"\n",
        "\n",
        "    # Writing the remarks to the text file\n",
        "    with open(filename, 'w') as file:\n",
        "        file.write('\\n'.join(remarks))\n"
      ]
    },
    {
      "cell_type": "code",
      "source": [
        "# read the API_KEY from the text file\n",
        "with open('/content/drive/MyDrive/CIS 606/api_key.txt', 'r') as f:\n",
        "    API_KEY = f.read()"
      ],
      "metadata": {
        "id": "EwkKh6Vonght"
      },
      "execution_count": 10,
      "outputs": []
    },
    {
      "cell_type": "code",
      "source": [
        "# combine results from all requests\n",
        "with open('/content/drive/MyDrive/CIS 606/call_info_sample.csv', 'r') as f:\n",
        "    # loop through each row\n",
        "    # the delimiter is comma\n",
        "    for line in f:\n",
        "        input_data = line.split(',')\n",
        "        company, year, quarter, remarks_count = input_data[0: 4]\n",
        "\n",
        "        # Add code below to call the get_earnings_call_transcript function and get the transcript for one company\n",
        "        get_earnings_call_transcript(API_KEY, company, year, quarter, remarks_count)"
      ],
      "metadata": {
        "id": "WlH7-8U6xzZN"
      },
      "execution_count": 11,
      "outputs": []
    }
  ]
}