{
  "nbformat": 4,
  "nbformat_minor": 0,
  "metadata": {
    "colab": {
      "provenance": []
    },
    "kernelspec": {
      "name": "python3",
      "display_name": "Python 3"
    },
    "language_info": {
      "name": "python"
    }
  },
  "cells": [
    {
      "cell_type": "code",
      "source": [
        "# Create an alias with the as keyword while importing\n",
        "# Now you can refer to the Pandas package as pd instead of pandas\n",
        "import pandas as pd"
      ],
      "metadata": {
        "id": "IBfys4iyIAWw"
      },
      "execution_count": 15,
      "outputs": []
    },
    {
      "cell_type": "code",
      "source": [
        "# Load the CSV into a DataFrame\n",
        "df = pd.read_csv('/content/drive/MyDrive/Colab Notebooks/sales_data.csv')\n",
        "print(df) # If the DataFrame has many rows, Pandas will only return the first 5 rows and the last 5 rows"
      ],
      "metadata": {
        "id": "ED8PEKKDZzj7",
        "colab": {
          "base_uri": "https://localhost:8080/"
        },
        "outputId": "e8317644-f532-4ac5-9d0f-e09778e9d58b"
      },
      "execution_count": 16,
      "outputs": [
        {
          "output_type": "stream",
          "name": "stdout",
          "text": [
            "   Transaction_ID Customer_ID Product_ID  Quantity    Price       Date\n",
            "0               1        C101       P001         2  2099.00   1/5/2023\n",
            "1               2        C102       P002         1    29.99   20230106\n",
            "2               3        C103       P001         1    20.99   1/7/2023\n",
            "3               4        C101       P003         3     9.99   1/8/2023\n",
            "4               5        C102       P002         2    29.99   1/9/2023\n",
            "5               6        C105       P001         1    20.99  1/10/2023\n",
            "6               7        C102       P004         1      NaN  1/11/2023\n",
            "7               8        C106       P001         2    20.99  1/12/2023\n",
            "8               9        C103       P005         1     9.99  1/13/2023\n",
            "9               9        C103       P005         1     9.99  1/13/2023\n"
          ]
        }
      ]
    },
    {
      "cell_type": "code",
      "source": [
        "from google.colab import drive\n",
        "drive.mount('/content/drive')"
      ],
      "metadata": {
        "colab": {
          "base_uri": "https://localhost:8080/"
        },
        "id": "6Jx8dVFPFSee",
        "outputId": "b7fb3873-ff27-432f-9793-02643bd7a6eb"
      },
      "execution_count": 17,
      "outputs": [
        {
          "output_type": "stream",
          "name": "stdout",
          "text": [
            "Drive already mounted at /content/drive; to attempt to forcibly remount, call drive.mount(\"/content/drive\", force_remount=True).\n"
          ]
        }
      ]
    },
    {
      "cell_type": "markdown",
      "source": [
        "**Practice 1: Change the price of Product P001 to 12 if the quantity of a transaction is greater than 1**\n",
        "\n",
        "**Hint: View how to filter with multiple conditions at https://www.geeksforgeeks.org/filter-pandas-dataframe-with-multiple-conditions/**"
      ],
      "metadata": {
        "id": "ljGuFre-lTD6"
      }
    },
    {
      "cell_type": "code",
      "source": [
        "df.loc[(df['Product_ID'] == \"P001\") & (df['Quantity']> 1), 'Price']= 12\n",
        "print(df)"
      ],
      "metadata": {
        "colab": {
          "base_uri": "https://localhost:8080/"
        },
        "id": "Wr7hX_jXFkkr",
        "outputId": "593799a9-d59e-4b7a-b8ef-e828435c0924"
      },
      "execution_count": 18,
      "outputs": [
        {
          "output_type": "stream",
          "name": "stdout",
          "text": [
            "   Transaction_ID Customer_ID Product_ID  Quantity  Price       Date\n",
            "0               1        C101       P001         2  12.00   1/5/2023\n",
            "1               2        C102       P002         1  29.99   20230106\n",
            "2               3        C103       P001         1  20.99   1/7/2023\n",
            "3               4        C101       P003         3   9.99   1/8/2023\n",
            "4               5        C102       P002         2  29.99   1/9/2023\n",
            "5               6        C105       P001         1  20.99  1/10/2023\n",
            "6               7        C102       P004         1    NaN  1/11/2023\n",
            "7               8        C106       P001         2  12.00  1/12/2023\n",
            "8               9        C103       P005         1   9.99  1/13/2023\n",
            "9               9        C103       P005         1   9.99  1/13/2023\n"
          ]
        }
      ]
    },
    {
      "cell_type": "markdown",
      "source": [
        "**Practice 2: Write code to get all the unique pairs of Customer_ID and Product_ID from the \"df\" dataframe**"
      ],
      "metadata": {
        "id": "4Cf7cJCez_ME"
      }
    },
    {
      "cell_type": "code",
      "execution_count": 19,
      "metadata": {
        "id": "qrzl93qoMyR_",
        "colab": {
          "base_uri": "https://localhost:8080/"
        },
        "outputId": "9141ef2e-33df-4497-8cd7-56f1a651ab12"
      },
      "outputs": [
        {
          "output_type": "stream",
          "name": "stdout",
          "text": [
            "   Transaction_ID Customer_ID Product_ID  Quantity    Price       Date\n",
            "0               1        C101       P001         2  2099.00   1/5/2023\n",
            "1               2        C102       P002         1    29.99   20230106\n",
            "2               3        C103       P001         1    20.99   1/7/2023\n",
            "3               4        C101       P003         3     9.99   1/8/2023\n",
            "4               5        C102       P002         2    29.99   1/9/2023\n",
            "5               6        C105       P001         1    20.99  1/10/2023\n",
            "6               7        C102       P004         1      NaN  1/11/2023\n",
            "7               8        C106       P001         2    20.99  1/12/2023\n",
            "8               9        C103       P005         1     9.99  1/13/2023\n",
            "9               9        C103       P005         1     9.99  1/13/2023\n"
          ]
        }
      ],
      "source": [
        "# Run this cell before Practice 3\n",
        "# Load the CSV into a dataframe called sales\n",
        "sales = pd.read_csv('/content/drive/MyDrive/Colab Notebooks/sales_data.csv')\n",
        "print(sales)"
      ]
    },
    {
      "cell_type": "code",
      "source": [
        "df = pd.DataFrame(sales)\n",
        "\n",
        "# Get unique pairs of Customer_ID and Product_ID\n",
        "unique_pairs = df[['Customer_ID', 'Product_ID']].drop_duplicates()\n",
        "\n",
        "# Print the result\n",
        "print(unique_pairs)"
      ],
      "metadata": {
        "colab": {
          "base_uri": "https://localhost:8080/"
        },
        "id": "4NHN-reoF8eh",
        "outputId": "cbe06481-e95e-4f81-d5d6-d7ca150af590"
      },
      "execution_count": 20,
      "outputs": [
        {
          "output_type": "stream",
          "name": "stdout",
          "text": [
            "  Customer_ID Product_ID\n",
            "0        C101       P001\n",
            "1        C102       P002\n",
            "2        C103       P001\n",
            "3        C101       P003\n",
            "5        C105       P001\n",
            "6        C102       P004\n",
            "7        C106       P001\n",
            "8        C103       P005\n"
          ]
        }
      ]
    },
    {
      "cell_type": "markdown",
      "source": [
        "**Practice 3 (Revision - Handle Duplicates): Remove duplicated rows in the sales dataframe**"
      ],
      "metadata": {
        "id": "rNtgzvAIZgII"
      }
    },
    {
      "cell_type": "code",
      "source": [
        "sales = sales.drop_duplicates()\n",
        "print(sales)"
      ],
      "metadata": {
        "colab": {
          "base_uri": "https://localhost:8080/"
        },
        "id": "hTdCW3GDGCpx",
        "outputId": "85446670-1d7f-43ac-b265-4bc5ce02cddd"
      },
      "execution_count": 21,
      "outputs": [
        {
          "output_type": "stream",
          "name": "stdout",
          "text": [
            "   Transaction_ID Customer_ID Product_ID  Quantity    Price       Date\n",
            "0               1        C101       P001         2  2099.00   1/5/2023\n",
            "1               2        C102       P002         1    29.99   20230106\n",
            "2               3        C103       P001         1    20.99   1/7/2023\n",
            "3               4        C101       P003         3     9.99   1/8/2023\n",
            "4               5        C102       P002         2    29.99   1/9/2023\n",
            "5               6        C105       P001         1    20.99  1/10/2023\n",
            "6               7        C102       P004         1      NaN  1/11/2023\n",
            "7               8        C106       P001         2    20.99  1/12/2023\n",
            "8               9        C103       P005         1     9.99  1/13/2023\n"
          ]
        }
      ]
    },
    {
      "cell_type": "markdown",
      "source": [
        "**Practice 4 (Revision: Correct Wrong Values): Change the price of Product P001 to 20.99 and recalculate transaction amount (Quantity * Price)**"
      ],
      "metadata": {
        "id": "ZWW3-wLyMVqM"
      }
    },
    {
      "cell_type": "code",
      "source": [
        "sales = pd.DataFrame(sales)\n",
        "sales.loc[sales['Product_ID'] == 'P001', 'Price'] = 20.99\n",
        "sales['Transaction_Amount'] = sales['Quantity'] * sales['Price']\n",
        "print(sales)"
      ],
      "metadata": {
        "colab": {
          "base_uri": "https://localhost:8080/"
        },
        "id": "cDkD7qEmGKv5",
        "outputId": "47c4d307-43d0-43fe-f377-1e7cda3c6ebb"
      },
      "execution_count": 22,
      "outputs": [
        {
          "output_type": "stream",
          "name": "stdout",
          "text": [
            "   Transaction_ID Customer_ID Product_ID  Quantity  Price       Date  \\\n",
            "0               1        C101       P001         2  20.99   1/5/2023   \n",
            "1               2        C102       P002         1  29.99   20230106   \n",
            "2               3        C103       P001         1  20.99   1/7/2023   \n",
            "3               4        C101       P003         3   9.99   1/8/2023   \n",
            "4               5        C102       P002         2  29.99   1/9/2023   \n",
            "5               6        C105       P001         1  20.99  1/10/2023   \n",
            "6               7        C102       P004         1    NaN  1/11/2023   \n",
            "7               8        C106       P001         2  20.99  1/12/2023   \n",
            "8               9        C103       P005         1   9.99  1/13/2023   \n",
            "\n",
            "   Transaction_Amount  \n",
            "0               41.98  \n",
            "1               29.99  \n",
            "2               20.99  \n",
            "3               29.97  \n",
            "4               59.98  \n",
            "5               20.99  \n",
            "6                 NaN  \n",
            "7               41.98  \n",
            "8                9.99  \n"
          ]
        }
      ]
    },
    {
      "cell_type": "markdown",
      "source": [
        "**Practice 5 (Revision: Correct Wrong Values): Change the null value of Price to the weighted price of all other products in the sales table (i.e., total transaction amount of all the products divided by total quantity of all the products) and recalculate transaction amount**"
      ],
      "metadata": {
        "id": "u0AQlPUJLIt-"
      }
    },
    {
      "cell_type": "code",
      "source": [
        "sales = pd.DataFrame(sales)\n",
        "\n",
        "total_transaction_amount = (sales['Quantity'] * sales['Price']).sum()\n",
        "\n",
        "total_quantity = sales['Quantity'].sum()\n",
        "\n",
        "weighted_price = total_transaction_amount / total_quantity\n",
        "\n",
        "sales['Price'].fillna(weighted_price, inplace=True)\n",
        "\n",
        "sales['Transaction_Amount'] = sales['Quantity'] * sales['Price']\n",
        "\n",
        "print(sales)"
      ],
      "metadata": {
        "colab": {
          "base_uri": "https://localhost:8080/"
        },
        "id": "W6DRyHjFGOZO",
        "outputId": "20cb3a9a-8117-4d42-fd76-b95d47ff4093"
      },
      "execution_count": 23,
      "outputs": [
        {
          "output_type": "stream",
          "name": "stdout",
          "text": [
            "   Transaction_ID Customer_ID Product_ID  Quantity      Price       Date  \\\n",
            "0               1        C101       P001         2  20.990000   1/5/2023   \n",
            "1               2        C102       P002         1  29.990000   20230106   \n",
            "2               3        C103       P001         1  20.990000   1/7/2023   \n",
            "3               4        C101       P003         3   9.990000   1/8/2023   \n",
            "4               5        C102       P002         2  29.990000   1/9/2023   \n",
            "5               6        C105       P001         1  20.990000  1/10/2023   \n",
            "6               7        C102       P004         1  18.276429  1/11/2023   \n",
            "7               8        C106       P001         2  20.990000  1/12/2023   \n",
            "8               9        C103       P005         1   9.990000  1/13/2023   \n",
            "\n",
            "   Transaction_Amount  \n",
            "0           41.980000  \n",
            "1           29.990000  \n",
            "2           20.990000  \n",
            "3           29.970000  \n",
            "4           59.980000  \n",
            "5           20.990000  \n",
            "6           18.276429  \n",
            "7           41.980000  \n",
            "8            9.990000  \n"
          ]
        }
      ]
    },
    {
      "cell_type": "markdown",
      "source": [
        "**Practice 6: Write code to answer the following question: for each product, what is its average price weighted by transaction quantity?**"
      ],
      "metadata": {
        "id": "5kgqnmKFWrwi"
      }
    },
    {
      "cell_type": "code",
      "source": [
        "sales = pd.DataFrame(sales)\n",
        "\n",
        "sales['Transaction_Amount'] = sales['Quantity'] * sales['Price']\n",
        "\n",
        "sales['Weighted_Price'] = sales['Quantity'] * sales['Price']\n",
        "\n",
        "product_summary = sales.groupby('Product_ID').agg({'Weighted_Price': 'sum', 'Quantity': 'sum'})\n",
        "\n",
        "product_summary['Average_Price_Weighted'] = product_summary['Weighted_Price'] / product_summary['Quantity']\n",
        "\n",
        "product_summary.reset_index(inplace=True)\n",
        "\n",
        "print(product_summary[['Product_ID', 'Average_Price_Weighted']])\n"
      ],
      "metadata": {
        "colab": {
          "base_uri": "https://localhost:8080/"
        },
        "id": "yC8k-0DBGXN8",
        "outputId": "3cb4dd60-57bb-4aaf-cd32-1f1d786707ea"
      },
      "execution_count": 24,
      "outputs": [
        {
          "output_type": "stream",
          "name": "stdout",
          "text": [
            "  Product_ID  Average_Price_Weighted\n",
            "0       P001               20.990000\n",
            "1       P002               29.990000\n",
            "2       P003                9.990000\n",
            "3       P004               18.276429\n",
            "4       P005                9.990000\n"
          ]
        }
      ]
    },
    {
      "cell_type": "markdown",
      "source": [
        "**Practice 7: Write code to count the number of transactions for each pair of customer and product**"
      ],
      "metadata": {
        "id": "zm1pY_DDRG48"
      }
    },
    {
      "cell_type": "code",
      "source": [
        "sales = pd.DataFrame(sales)\n",
        "\n",
        "transaction_counts = sales.groupby(['Customer_ID', 'Product_ID']).size().reset_index(name='Transaction_Count')\n",
        "\n",
        "print(transaction_counts)"
      ],
      "metadata": {
        "colab": {
          "base_uri": "https://localhost:8080/"
        },
        "id": "Hj_NTRn9GclE",
        "outputId": "c9d8c4a2-e972-4b1b-8856-2176ea118c2f"
      },
      "execution_count": 25,
      "outputs": [
        {
          "output_type": "stream",
          "name": "stdout",
          "text": [
            "  Customer_ID Product_ID  Transaction_Count\n",
            "0        C101       P001                  1\n",
            "1        C101       P003                  1\n",
            "2        C102       P002                  2\n",
            "3        C102       P004                  1\n",
            "4        C103       P001                  1\n",
            "5        C103       P005                  1\n",
            "6        C105       P001                  1\n",
            "7        C106       P001                  1\n"
          ]
        }
      ]
    },
    {
      "cell_type": "markdown",
      "source": [
        "**Practice 8: Use nlargest(), nsmallest(), idxmax(), and idxmin() to write code to get the product with the highest and lowest average price weighted by transaction quantity**\n",
        "\n",
        "**Hint 1: Use your answer from Practice 6**\n",
        "\n",
        "**Hint 2: Read resources here: https://tutorialsinhand.com/Articles/pandas-dataframe---nsmallest-and-nlargest.aspx and https://proclusacademy.com/blog/quicktip/pandas-idxmin-idxmax/**\n",
        "\n",
        "**The second resource also talks about having repeated max and min values**"
      ],
      "metadata": {
        "id": "xQ6ywiPHRw7N"
      }
    },
    {
      "cell_type": "code",
      "source": [
        "sales = pd.DataFrame(sales)\n",
        "\n",
        "sales['Transaction_Amount'] = sales['Quantity'] * sales['Price']\n",
        "\n",
        "sales['Weighted_Price'] = sales['Quantity'] * sales['Price']\n",
        "\n",
        "product_summary = sales.groupby('Product_ID').agg({'Weighted_Price': 'sum', 'Quantity': 'sum'})\n",
        "\n",
        "product_summary['Average_Price_Weighted'] = product_summary['Weighted_Price'] / product_summary['Quantity']\n",
        "\n",
        "highest_average_price_product = product_summary['Average_Price_Weighted'].idxmax()\n",
        "lowest_average_price_product = product_summary['Average_Price_Weighted'].idxmin()\n",
        "\n",
        "print(\"Product with the highest average price weighted by transaction quantity:\", highest_average_price_product)\n",
        "print(\"Product with the lowest average price weighted by transaction quantity:\", lowest_average_price_product)"
      ],
      "metadata": {
        "colab": {
          "base_uri": "https://localhost:8080/"
        },
        "id": "NryLXCDhGlMC",
        "outputId": "0f961772-bb98-416f-9b82-ca4348bebd35"
      },
      "execution_count": 26,
      "outputs": [
        {
          "output_type": "stream",
          "name": "stdout",
          "text": [
            "Product with the highest average price weighted by transaction quantity: P002\n",
            "Product with the lowest average price weighted by transaction quantity: P003\n"
          ]
        }
      ]
    }
  ]
}